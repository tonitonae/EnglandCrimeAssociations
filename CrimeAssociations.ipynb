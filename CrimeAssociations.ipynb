{
  "nbformat": 4,
  "nbformat_minor": 0,
  "metadata": {
    "kernelspec": {
      "display_name": "Python 3",
      "language": "python",
      "name": "python3"
    },
    "language_info": {
      "codemirror_mode": {
        "name": "ipython",
        "version": 3
      },
      "file_extension": ".py",
      "mimetype": "text/x-python",
      "name": "python",
      "nbconvert_exporter": "python",
      "pygments_lexer": "ipython3",
      "version": "3.7.3"
    },
    "colab": {
      "name": "CrimeAssociations.ipynb",
      "provenance": [],
      "toc_visible": true
    }
  },
  "cells": [
    {
      "cell_type": "markdown",
      "metadata": {
        "id": "UG2VT4UD8Sg9"
      },
      "source": [
        "# Association Rule Mining for reported street crimes in England & Wales\n",
        "The aim here is to see if there are any associations between the reported aspects of street crime, such as Month of Year, Location, Crime type etc.\n",
        "This will be done in Pyspark due to the size of the data but it will still be possible to execute on a local cluster.\n",
        "\n",
        "The data can be downloaded from here: https://data.police.uk/data/.\n",
        "\n",
        "The date range for this data is December 2010 - July 2019 and all constabularies in England & Wales were selected (we will be excluding British Transport Police and Police Service of Northern Ireland)"
      ]
    },
    {
      "cell_type": "markdown",
      "metadata": {
        "id": "pN-5S4l98WrQ"
      },
      "source": [
        "# Preparatory steps"
      ]
    },
    {
      "cell_type": "markdown",
      "metadata": {
        "id": "Y11MhqOkEKbS"
      },
      "source": [
        "Before going into the details of the analysis, we need to carry out some preparatory steps in order to have a Spark installation ready in our Google Collab. The following steps take care of the installation of all the dependencies and test the resulting environment, to check that everything is working.\n",
        "\n",
        "NOTE: These instructions have been obtained from: https://joserzapata.github.io/es/post/pyspark-google-colab/"
      ]
    },
    {
      "cell_type": "markdown",
      "metadata": {
        "id": "EqYTPow8Einr"
      },
      "source": [
        "First, we must install Java 8 JDK."
      ]
    },
    {
      "cell_type": "code",
      "metadata": {
        "id": "QFr3vXeL8XW3"
      },
      "source": [
        "!apt-get install openjdk-8-jdk-headless -qq > /dev/null"
      ],
      "execution_count": null,
      "outputs": []
    },
    {
      "cell_type": "markdown",
      "metadata": {
        "id": "XVhoTns0Emnm"
      },
      "source": [
        "Next, we retrieve all the available stable Spark versions from the web."
      ]
    },
    {
      "cell_type": "code",
      "metadata": {
        "id": "mh1Sq8Q2_l11",
        "outputId": "4eede338-7c88-44ce-b2e5-55a80fd8cdc3",
        "colab": {
          "base_uri": "https://localhost:8080/",
          "height": 34
        }
      },
      "source": [
        "from bs4 import BeautifulSoup\n",
        "import requests\n",
        "\n",
        "url = 'https://downloads.apache.org/spark/' \n",
        "r = requests.get(url)\n",
        "html_doc = r.text\n",
        "soup = BeautifulSoup(html_doc)\n",
        "\n",
        "link_files = []\n",
        "for link in soup.find_all('a'):\n",
        "  link_files.append(link.get('href'))\n",
        "spark_link = [x for x in link_files if 'spark' in x]  \n",
        "print(spark_link)"
      ],
      "execution_count": null,
      "outputs": [
        {
          "output_type": "stream",
          "text": [
            "['spark-2.4.7/', 'spark-3.0.1/']\n"
          ],
          "name": "stdout"
        }
      ]
    },
    {
      "cell_type": "markdown",
      "metadata": {
        "id": "__yykmCOExSt"
      },
      "source": [
        "Now, the most recent version is selected."
      ]
    },
    {
      "cell_type": "code",
      "metadata": {
        "id": "UvboikkP_vQp",
        "outputId": "cd27e7ac-fab1-4411-ca23-933c869b7f66",
        "colab": {
          "base_uri": "https://localhost:8080/",
          "height": 34
        }
      },
      "source": [
        "ver_spark = spark_link[1][:-1] # obtener la version y eliminar el caracter '/' del final\n",
        "print(ver_spark)"
      ],
      "execution_count": null,
      "outputs": [
        {
          "output_type": "stream",
          "text": [
            "spark-3.0.1\n"
          ],
          "name": "stdout"
        }
      ]
    },
    {
      "cell_type": "markdown",
      "metadata": {
        "id": "IMBKYPeCE26r"
      },
      "source": [
        "We install both Spark and the pyspark wrapper."
      ]
    },
    {
      "cell_type": "code",
      "metadata": {
        "id": "5xhFzJom_1iO",
        "outputId": "1109c86c-46e3-45cc-b5dc-8391629a0190",
        "colab": {
          "base_uri": "https://localhost:8080/",
          "height": 69
        }
      },
      "source": [
        "import os\n",
        "\n",
        "link = \"https://www-us.apache.org/dist/spark/\"\n",
        "os.system(f\"wget -q {link}{ver_spark}/{ver_spark}-bin-hadoop2.7.tgz\")\n",
        "os.system(f\"tar xf {ver_spark}-bin-hadoop2.7.tgz\")\n",
        "\n",
        "!pip install -q pyspark"
      ],
      "execution_count": null,
      "outputs": [
        {
          "output_type": "stream",
          "text": [
            "\u001b[K     |████████████████████████████████| 204.2MB 51kB/s \n",
            "\u001b[K     |████████████████████████████████| 204kB 48.4MB/s \n",
            "\u001b[?25h  Building wheel for pyspark (setup.py) ... \u001b[?25l\u001b[?25hdone\n"
          ],
          "name": "stdout"
        }
      ]
    },
    {
      "cell_type": "markdown",
      "metadata": {
        "id": "z2F8yRANE65C"
      },
      "source": [
        "Once installed, we point the corresponding environment variables to the location of both libraries."
      ]
    },
    {
      "cell_type": "code",
      "metadata": {
        "id": "BKu2LSC-AGpr"
      },
      "source": [
        "os.environ[\"JAVA_HOME\" ]=\"/usr/lib/jvm/java-8-openjdk-amd64\"\n",
        "os.environ[\"SPARK_HOME\"]=f\"/content/{ver_spark}-bin-hadoop2.7\""
      ],
      "execution_count": null,
      "outputs": []
    },
    {
      "cell_type": "markdown",
      "metadata": {
        "id": "1rDkh8SaFC0r"
      },
      "source": [
        "Now is time to start a Spark session and test that everything is working."
      ]
    },
    {
      "cell_type": "code",
      "metadata": {
        "id": "zu6yvmSdANgR",
        "outputId": "2797b457-2cc9-4e37-869d-5af4cc322346",
        "colab": {
          "base_uri": "https://localhost:8080/",
          "height": 223
        }
      },
      "source": [
        "from pyspark.sql import SparkSession\n",
        "spark=SparkSession.builder.appName(\"Test_spark\").master(\"local[*]\").getOrCreate()\n",
        "spark"
      ],
      "execution_count": 39,
      "outputs": [
        {
          "output_type": "execute_result",
          "data": {
            "text/html": [
              "\n",
              "            <div>\n",
              "                <p><b>SparkSession - in-memory</b></p>\n",
              "                \n",
              "        <div>\n",
              "            <p><b>SparkContext</b></p>\n",
              "\n",
              "            <p><a href=\"http://5f77e75738c8:4040\">Spark UI</a></p>\n",
              "\n",
              "            <dl>\n",
              "              <dt>Version</dt>\n",
              "                <dd><code>v3.0.1</code></dd>\n",
              "              <dt>Master</dt>\n",
              "                <dd><code>local[*]</code></dd>\n",
              "              <dt>AppName</dt>\n",
              "                <dd><code>Test_spark</code></dd>\n",
              "            </dl>\n",
              "        </div>\n",
              "        \n",
              "            </div>\n",
              "        "
            ],
            "text/plain": [
              "<pyspark.sql.session.SparkSession at 0x7f7fc0958a90>"
            ]
          },
          "metadata": {
            "tags": []
          },
          "execution_count": 39
        }
      ]
    },
    {
      "cell_type": "markdown",
      "metadata": {
        "id": "fyYT-SULFIci"
      },
      "source": [
        "We can read one of the sample files and check that we obtain a Data frame."
      ]
    },
    {
      "cell_type": "code",
      "metadata": {
        "id": "l6tW3YzPDp9A",
        "outputId": "ed95529a-9051-49d1-a88a-ddcff9e9052b",
        "colab": {
          "base_uri": "https://localhost:8080/",
          "height": 36
        }
      },
      "source": [
        "archivo = './sample_data/california_housing_train.csv'\n",
        "df_spark = spark.read.csv(archivo, inferSchema=True, header=True)\n",
        "\n",
        "print(type(df_spark))"
      ],
      "execution_count": 40,
      "outputs": [
        {
          "output_type": "stream",
          "text": [
            "<class 'pyspark.sql.dataframe.DataFrame'>\n"
          ],
          "name": "stdout"
        }
      ]
    },
    {
      "cell_type": "markdown",
      "metadata": {
        "id": "gxMylPicFP3U"
      },
      "source": [
        "And we can check what we read by printing the number of rows, the schema, column names and the first 20 rows of the data frame."
      ]
    },
    {
      "cell_type": "code",
      "metadata": {
        "id": "C_7xHby7D3YX",
        "outputId": "c2c4f2d4-a4b5-4bed-d420-624774b5269e",
        "colab": {
          "base_uri": "https://localhost:8080/",
          "height": 36
        }
      },
      "source": [
        "df_spark.count()"
      ],
      "execution_count": 41,
      "outputs": [
        {
          "output_type": "execute_result",
          "data": {
            "text/plain": [
              "17000"
            ]
          },
          "metadata": {
            "tags": []
          },
          "execution_count": 41
        }
      ]
    },
    {
      "cell_type": "code",
      "metadata": {
        "id": "GUvnUChoD7Bc",
        "outputId": "5a09208c-98d0-4058-d9d6-2cbe59c3924e",
        "colab": {
          "base_uri": "https://localhost:8080/",
          "height": 221
        }
      },
      "source": [
        "df_spark.printSchema()"
      ],
      "execution_count": 42,
      "outputs": [
        {
          "output_type": "stream",
          "text": [
            "root\n",
            " |-- longitude: double (nullable = true)\n",
            " |-- latitude: double (nullable = true)\n",
            " |-- housing_median_age: double (nullable = true)\n",
            " |-- total_rooms: double (nullable = true)\n",
            " |-- total_bedrooms: double (nullable = true)\n",
            " |-- population: double (nullable = true)\n",
            " |-- households: double (nullable = true)\n",
            " |-- median_income: double (nullable = true)\n",
            " |-- median_house_value: double (nullable = true)\n",
            "\n"
          ],
          "name": "stdout"
        }
      ]
    },
    {
      "cell_type": "code",
      "metadata": {
        "id": "_-L5hS7_D9GI",
        "outputId": "d13bfa38-0202-42e6-9b92-2bae3fbe794d",
        "colab": {
          "base_uri": "https://localhost:8080/",
          "height": 173
        }
      },
      "source": [
        "df_spark.columns"
      ],
      "execution_count": null,
      "outputs": [
        {
          "output_type": "execute_result",
          "data": {
            "text/plain": [
              "['longitude',\n",
              " 'latitude',\n",
              " 'housing_median_age',\n",
              " 'total_rooms',\n",
              " 'total_bedrooms',\n",
              " 'population',\n",
              " 'households',\n",
              " 'median_income',\n",
              " 'median_house_value']"
            ]
          },
          "metadata": {
            "tags": []
          },
          "execution_count": 10
        }
      ]
    },
    {
      "cell_type": "code",
      "metadata": {
        "id": "r8utTZkYEBsO",
        "outputId": "6bc8f1f2-53fb-44b1-c4e1-2fd8cf3a32d0",
        "colab": {
          "base_uri": "https://localhost:8080/",
          "height": 469
        }
      },
      "source": [
        "df_spark.show()"
      ],
      "execution_count": null,
      "outputs": [
        {
          "output_type": "stream",
          "text": [
            "+---------+--------+------------------+-----------+--------------+----------+----------+-------------+------------------+\n",
            "|longitude|latitude|housing_median_age|total_rooms|total_bedrooms|population|households|median_income|median_house_value|\n",
            "+---------+--------+------------------+-----------+--------------+----------+----------+-------------+------------------+\n",
            "|  -114.31|   34.19|              15.0|     5612.0|        1283.0|    1015.0|     472.0|       1.4936|           66900.0|\n",
            "|  -114.47|    34.4|              19.0|     7650.0|        1901.0|    1129.0|     463.0|         1.82|           80100.0|\n",
            "|  -114.56|   33.69|              17.0|      720.0|         174.0|     333.0|     117.0|       1.6509|           85700.0|\n",
            "|  -114.57|   33.64|              14.0|     1501.0|         337.0|     515.0|     226.0|       3.1917|           73400.0|\n",
            "|  -114.57|   33.57|              20.0|     1454.0|         326.0|     624.0|     262.0|        1.925|           65500.0|\n",
            "|  -114.58|   33.63|              29.0|     1387.0|         236.0|     671.0|     239.0|       3.3438|           74000.0|\n",
            "|  -114.58|   33.61|              25.0|     2907.0|         680.0|    1841.0|     633.0|       2.6768|           82400.0|\n",
            "|  -114.59|   34.83|              41.0|      812.0|         168.0|     375.0|     158.0|       1.7083|           48500.0|\n",
            "|  -114.59|   33.61|              34.0|     4789.0|        1175.0|    3134.0|    1056.0|       2.1782|           58400.0|\n",
            "|   -114.6|   34.83|              46.0|     1497.0|         309.0|     787.0|     271.0|       2.1908|           48100.0|\n",
            "|   -114.6|   33.62|              16.0|     3741.0|         801.0|    2434.0|     824.0|       2.6797|           86500.0|\n",
            "|   -114.6|    33.6|              21.0|     1988.0|         483.0|    1182.0|     437.0|        1.625|           62000.0|\n",
            "|  -114.61|   34.84|              48.0|     1291.0|         248.0|     580.0|     211.0|       2.1571|           48600.0|\n",
            "|  -114.61|   34.83|              31.0|     2478.0|         464.0|    1346.0|     479.0|        3.212|           70400.0|\n",
            "|  -114.63|   32.76|              15.0|     1448.0|         378.0|     949.0|     300.0|       0.8585|           45000.0|\n",
            "|  -114.65|   34.89|              17.0|     2556.0|         587.0|    1005.0|     401.0|       1.6991|           69100.0|\n",
            "|  -114.65|    33.6|              28.0|     1678.0|         322.0|     666.0|     256.0|       2.9653|           94900.0|\n",
            "|  -114.65|   32.79|              21.0|       44.0|          33.0|      64.0|      27.0|       0.8571|           25000.0|\n",
            "|  -114.66|   32.74|              17.0|     1388.0|         386.0|     775.0|     320.0|       1.2049|           44000.0|\n",
            "|  -114.67|   33.92|              17.0|       97.0|          24.0|      29.0|      15.0|       1.2656|           27500.0|\n",
            "+---------+--------+------------------+-----------+--------------+----------+----------+-------------+------------------+\n",
            "only showing top 20 rows\n",
            "\n"
          ],
          "name": "stdout"
        }
      ]
    },
    {
      "cell_type": "markdown",
      "metadata": {
        "id": "D1wFNQFhFY_V"
      },
      "source": [
        "As everything seems to be working, we can proceed with our analysis."
      ]
    },
    {
      "cell_type": "markdown",
      "metadata": {
        "id": "7wtdvyY58Sg-"
      },
      "source": [
        "## What is an Association Rule?\n",
        "*Association rule learning is a rule-based machine learning method for discovering interesting relations between variables in large databases. It is intended to identify strong rules discovered in databases using some measures of interestingness. This rule-based approach also generates new rules as it analyzes more data. The ultimate goal, assuming a large enough dataset, is to help a machine mimic the human brain’s feature extraction and abstract association capabilities from new uncategorized data.*\n",
        "\n",
        "We will be looking for rules with a high level of confidence\n",
        "\n",
        "*Confidence is an indication of how often the rule has been found to be true... Confidence can be interpreted as an estimate of the conditional probability*"
      ]
    },
    {
      "cell_type": "code",
      "metadata": {
        "id": "2dEyQ4uL8ShA"
      },
      "source": [
        "import glob\n",
        "import os\n",
        "import pandas as pd\n",
        "import matplotlib.pyplot as plt\n",
        "import calendar\n",
        "import seaborn as sns"
      ],
      "execution_count": null,
      "outputs": []
    },
    {
      "cell_type": "code",
      "metadata": {
        "id": "2tT3TRKB8ShK",
        "outputId": "c9f95518-0ece-4aff-c640-b87a2126f25b"
      },
      "source": [
        "%load_ext autoreload\n",
        "%autoreload 2"
      ],
      "execution_count": null,
      "outputs": [
        {
          "output_type": "stream",
          "text": [
            "The autoreload extension is already loaded. To reload it, use:\n",
            "  %reload_ext autoreload\n"
          ],
          "name": "stdout"
        }
      ]
    },
    {
      "cell_type": "markdown",
      "metadata": {
        "id": "h3Rr0hpo8ShP"
      },
      "source": [
        "#### Set up Spark\n",
        "Running Spark locally using 6 out of 8 cores"
      ]
    },
    {
      "cell_type": "code",
      "metadata": {
        "id": "f53Y9R-Q8ShR"
      },
      "source": [
        "from pyspark import SparkContext\n",
        "from pyspark.sql import SQLContext, SparkSession"
      ],
      "execution_count": 43,
      "outputs": []
    },
    {
      "cell_type": "code",
      "metadata": {
        "id": "vFJ2NHwA8ShU"
      },
      "source": [
        "spark = SparkSession.builder\\\n",
        "        .master(\"local[7]\")\\\n",
        "        .appName(\"Crime Assocations\")\\\n",
        "        .config(\"spark.executor.memory\", \"6g\")\\\n",
        "        .config(\"spark.memory.fraction\", 0.7)\\\n",
        "        .getOrCreate()"
      ],
      "execution_count": 44,
      "outputs": []
    },
    {
      "cell_type": "code",
      "metadata": {
        "id": "Fvez-kJx8ShZ"
      },
      "source": [
        "sc = spark.sparkContext\n",
        "# Set up a SQL Context\n",
        "sqlCtx = SQLContext(sc)"
      ],
      "execution_count": 45,
      "outputs": []
    },
    {
      "cell_type": "code",
      "metadata": {
        "id": "ZXa_lgS58Shd"
      },
      "source": [
        "#sc.stop()"
      ],
      "execution_count": 46,
      "outputs": []
    },
    {
      "cell_type": "markdown",
      "metadata": {
        "id": "g0i1lmd58Shi"
      },
      "source": [
        "## Load Data into Spark"
      ]
    },
    {
      "cell_type": "code",
      "metadata": {
        "id": "o1nRknjG8Shj"
      },
      "source": [
        "def load_data(file_locations, sqlcontext):\n",
        "    print(\"Loading CSV files to sqlcontext...\")\n",
        "    police_data_df = sqlcontext.read.format(\"csv\")\\\n",
        "                .option(\"header\", \"true\")\\\n",
        "                .option(\"inferSchema\", \"true\")\\\n",
        "                .load(file_locations)\n",
        "    print('Load Complete')\n",
        "    return police_data_df"
      ],
      "execution_count": 51,
      "outputs": []
    },
    {
      "cell_type": "markdown",
      "metadata": {
        "id": "cYbJmiVJ5XFu"
      },
      "source": [
        "We must download and uncompress our data within the Colab VM."
      ]
    },
    {
      "cell_type": "code",
      "metadata": {
        "id": "pBjCbxne5Wca",
        "outputId": "c0c17622-ec69-4f4e-cae1-85404fa7616c",
        "colab": {
          "base_uri": "https://localhost:8080/",
          "height": 56
        }
      },
      "source": [
        "import os\n",
        "\n",
        "os.system(f\"unzip ./data_medium/data_medium.zip\")\n",
        "os.system(f\"mv ./data_medium/data_medium.zip .\")"
      ],
      "execution_count": 48,
      "outputs": [
        {
          "output_type": "stream",
          "text": [
            "unzip:  cannot find or open ./data_medium/data_medium.zip, ./data_medium/data_medium.zip.zip or ./data_medium/data_medium.zip.ZIP.\n"
          ],
          "name": "stdout"
        }
      ]
    },
    {
      "cell_type": "markdown",
      "metadata": {
        "id": "Wu5jG70I8Shm"
      },
      "source": [
        "The police data comes in several csv files with a folder for each Month-Year. Within each folder, there is a CSV file for each constabulary. We will concatenate these"
      ]
    },
    {
      "cell_type": "code",
      "metadata": {
        "id": "9SbthU1B8Shn"
      },
      "source": [
        "path = glob.glob(os.getcwd() + \"/data_medium/*/*-street.csv\")"
      ],
      "execution_count": 49,
      "outputs": []
    },
    {
      "cell_type": "code",
      "metadata": {
        "id": "uPbHBQDV8Shq",
        "outputId": "456bb04e-c50d-4d43-dab6-c37a12aabfb7",
        "colab": {
          "base_uri": "https://localhost:8080/",
          "height": 54
        }
      },
      "source": [
        "police_data_df = load_data(file_locations=path, sqlcontext=sqlCtx)"
      ],
      "execution_count": 50,
      "outputs": [
        {
          "output_type": "stream",
          "text": [
            "Loading CSV files to sqlcontext...\n",
            "Load Complete\n"
          ],
          "name": "stdout"
        }
      ]
    },
    {
      "cell_type": "markdown",
      "metadata": {
        "id": "Dw63R5n68Shu"
      },
      "source": [
        "#### Inspecting the data"
      ]
    },
    {
      "cell_type": "code",
      "metadata": {
        "id": "weu_PQWT8Shv",
        "outputId": "8b0a1e4e-d73a-419e-ffee-70cf791c747b",
        "colab": {
          "base_uri": "https://localhost:8080/",
          "height": 518
        }
      },
      "source": [
        "police_data_df.select(police_data_df.columns[1:]).show()"
      ],
      "execution_count": 52,
      "outputs": [
        {
          "output_type": "stream",
          "text": [
            "+-------+--------------------+--------------------+---------+---------+--------------------+---------+--------------------+--------------------+---------------------+-------+\n",
            "|  Month|         Reported by|        Falls within|Longitude| Latitude|            Location|LSOA code|           LSOA name|          Crime type|Last outcome category|Context|\n",
            "+-------+--------------------+--------------------+---------+---------+--------------------+---------+--------------------+--------------------+---------------------+-------+\n",
            "|2020-05|Metropolitan Poli...|Metropolitan Poli...|-0.549112| 50.82404|On or near Finche...|E01031467|           Arun 004D|Violence and sexu...| Investigation com...|   null|\n",
            "|2020-05|Metropolitan Poli...|Metropolitan Poli...|-1.046477|51.820056| On or near The Firs|E01017642| Aylesbury Vale 010A|Violence and sexu...|  Under investigation|   null|\n",
            "|2020-05|Metropolitan Poli...|Metropolitan Poli...| -0.77491|51.810753|On or near Beaufo...|E01017640| Aylesbury Vale 017F|         Other crime| Awaiting court ou...|   null|\n",
            "|2020-05|Metropolitan Poli...|Metropolitan Poli...| 0.134947|51.588063|On or near Mead G...|E01000027|Barking and Dagen...|Anti-social behav...|                 null|   null|\n",
            "|2020-05|Metropolitan Poli...|Metropolitan Poli...| 0.137065|51.583672|On or near Police...|E01000027|Barking and Dagen...|Anti-social behav...|                 null|   null|\n",
            "|2020-05|Metropolitan Poli...|Metropolitan Poli...| 0.134947|51.588063|On or near Mead G...|E01000027|Barking and Dagen...|Anti-social behav...|                 null|   null|\n",
            "|2020-05|Metropolitan Poli...|Metropolitan Poli...|  0.13586|51.588442|On or near Hazel ...|E01000027|Barking and Dagen...|Anti-social behav...|                 null|   null|\n",
            "|2020-05|Metropolitan Poli...|Metropolitan Poli...| 0.135866|51.587336|On or near Gibbfi...|E01000027|Barking and Dagen...|Anti-social behav...|                 null|   null|\n",
            "|2020-05|Metropolitan Poli...|Metropolitan Poli...| 0.140192|51.582311|On or near Hatch ...|E01000027|Barking and Dagen...|Anti-social behav...|                 null|   null|\n",
            "|2020-05|Metropolitan Poli...|Metropolitan Poli...| 0.134947|51.588063|On or near Mead G...|E01000027|Barking and Dagen...|Anti-social behav...|                 null|   null|\n",
            "|2020-05|Metropolitan Poli...|Metropolitan Poli...| 0.137065|51.583672|On or near Police...|E01000027|Barking and Dagen...|Anti-social behav...|                 null|   null|\n",
            "|2020-05|Metropolitan Poli...|Metropolitan Poli...| 0.140192|51.582311|On or near Hatch ...|E01000027|Barking and Dagen...|            Burglary| Investigation com...|   null|\n",
            "|2020-05|Metropolitan Poli...|Metropolitan Poli...| 0.140035|51.589112|On or near Beansl...|E01000027|Barking and Dagen...|Criminal damage a...| Investigation com...|   null|\n",
            "|2020-05|Metropolitan Poli...|Metropolitan Poli...| 0.141143|51.590873|On or near Furze ...|E01000027|Barking and Dagen...|Criminal damage a...| Investigation com...|   null|\n",
            "|2020-05|Metropolitan Poli...|Metropolitan Poli...| 0.148434|51.595164|On or near Park/O...|E01000027|Barking and Dagen...|Criminal damage a...| Investigation com...|   null|\n",
            "|2020-05|Metropolitan Poli...|Metropolitan Poli...| 0.140634|51.583427|On or near Rams G...|E01000027|Barking and Dagen...|Criminal damage a...| Investigation com...|   null|\n",
            "|2020-05|Metropolitan Poli...|Metropolitan Poli...| 0.140192|51.582311|On or near Hatch ...|E01000027|Barking and Dagen...|               Drugs| Offender given pe...|   null|\n",
            "|2020-05|Metropolitan Poli...|Metropolitan Poli...| 0.140192|51.582311|On or near Hatch ...|E01000027|Barking and Dagen...|               Drugs| Offender given a ...|   null|\n",
            "|2020-05|Metropolitan Poli...|Metropolitan Poli...| 0.141143|51.590873|On or near Furze ...|E01000027|Barking and Dagen...|               Drugs| Offender given pe...|   null|\n",
            "|2020-05|Metropolitan Poli...|Metropolitan Poli...| 0.140192|51.582311|On or near Hatch ...|E01000027|Barking and Dagen...|         Other theft| Investigation com...|   null|\n",
            "+-------+--------------------+--------------------+---------+---------+--------------------+---------+--------------------+--------------------+---------------------+-------+\n",
            "only showing top 20 rows\n",
            "\n"
          ],
          "name": "stdout"
        }
      ]
    },
    {
      "cell_type": "markdown",
      "metadata": {
        "id": "jRyM859l8Shz"
      },
      "source": [
        "Each dataset contains the following columns:"
      ]
    },
    {
      "cell_type": "code",
      "metadata": {
        "id": "4_vbPeen8Sh0",
        "outputId": "25e3560e-f694-4266-dcdc-0144622b8646",
        "colab": {
          "base_uri": "https://localhost:8080/",
          "height": 276
        }
      },
      "source": [
        "police_data_df.printSchema()"
      ],
      "execution_count": 53,
      "outputs": [
        {
          "output_type": "stream",
          "text": [
            "root\n",
            " |-- Crime ID: string (nullable = true)\n",
            " |-- Month: string (nullable = true)\n",
            " |-- Reported by: string (nullable = true)\n",
            " |-- Falls within: string (nullable = true)\n",
            " |-- Longitude: double (nullable = true)\n",
            " |-- Latitude: double (nullable = true)\n",
            " |-- Location: string (nullable = true)\n",
            " |-- LSOA code: string (nullable = true)\n",
            " |-- LSOA name: string (nullable = true)\n",
            " |-- Crime type: string (nullable = true)\n",
            " |-- Last outcome category: string (nullable = true)\n",
            " |-- Context: string (nullable = true)\n",
            "\n"
          ],
          "name": "stdout"
        }
      ]
    },
    {
      "cell_type": "markdown",
      "metadata": {
        "id": "hmgJQyMm8Sh4"
      },
      "source": [
        "The Data Dictionary is as follows"
      ]
    },
    {
      "cell_type": "code",
      "metadata": {
        "id": "Gn_mWRZq8Sh5",
        "outputId": "3b5e6956-1333-4024-9344-23b8c28f2390",
        "colab": {
          "base_uri": "https://localhost:8080/",
          "height": 495
        }
      },
      "source": [
        "dictionary = pd.read_csv('data_dictionary.csv')"
      ],
      "execution_count": 54,
      "outputs": [
        {
          "output_type": "error",
          "ename": "FileNotFoundError",
          "evalue": "ignored",
          "traceback": [
            "\u001b[0;31m---------------------------------------------------------------------------\u001b[0m",
            "\u001b[0;31mFileNotFoundError\u001b[0m                         Traceback (most recent call last)",
            "\u001b[0;32m<ipython-input-54-228fe215b6e8>\u001b[0m in \u001b[0;36m<module>\u001b[0;34m()\u001b[0m\n\u001b[0;32m----> 1\u001b[0;31m \u001b[0mdictionary\u001b[0m \u001b[0;34m=\u001b[0m \u001b[0mpd\u001b[0m\u001b[0;34m.\u001b[0m\u001b[0mread_csv\u001b[0m\u001b[0;34m(\u001b[0m\u001b[0;34m'data_dictionary.csv'\u001b[0m\u001b[0;34m)\u001b[0m\u001b[0;34m\u001b[0m\u001b[0;34m\u001b[0m\u001b[0m\n\u001b[0m",
            "\u001b[0;32m/usr/local/lib/python3.6/dist-packages/pandas/io/parsers.py\u001b[0m in \u001b[0;36mread_csv\u001b[0;34m(filepath_or_buffer, sep, delimiter, header, names, index_col, usecols, squeeze, prefix, mangle_dupe_cols, dtype, engine, converters, true_values, false_values, skipinitialspace, skiprows, skipfooter, nrows, na_values, keep_default_na, na_filter, verbose, skip_blank_lines, parse_dates, infer_datetime_format, keep_date_col, date_parser, dayfirst, cache_dates, iterator, chunksize, compression, thousands, decimal, lineterminator, quotechar, quoting, doublequote, escapechar, comment, encoding, dialect, error_bad_lines, warn_bad_lines, delim_whitespace, low_memory, memory_map, float_precision)\u001b[0m\n\u001b[1;32m    684\u001b[0m     )\n\u001b[1;32m    685\u001b[0m \u001b[0;34m\u001b[0m\u001b[0m\n\u001b[0;32m--> 686\u001b[0;31m     \u001b[0;32mreturn\u001b[0m \u001b[0m_read\u001b[0m\u001b[0;34m(\u001b[0m\u001b[0mfilepath_or_buffer\u001b[0m\u001b[0;34m,\u001b[0m \u001b[0mkwds\u001b[0m\u001b[0;34m)\u001b[0m\u001b[0;34m\u001b[0m\u001b[0;34m\u001b[0m\u001b[0m\n\u001b[0m\u001b[1;32m    687\u001b[0m \u001b[0;34m\u001b[0m\u001b[0m\n\u001b[1;32m    688\u001b[0m \u001b[0;34m\u001b[0m\u001b[0m\n",
            "\u001b[0;32m/usr/local/lib/python3.6/dist-packages/pandas/io/parsers.py\u001b[0m in \u001b[0;36m_read\u001b[0;34m(filepath_or_buffer, kwds)\u001b[0m\n\u001b[1;32m    450\u001b[0m \u001b[0;34m\u001b[0m\u001b[0m\n\u001b[1;32m    451\u001b[0m     \u001b[0;31m# Create the parser.\u001b[0m\u001b[0;34m\u001b[0m\u001b[0;34m\u001b[0m\u001b[0;34m\u001b[0m\u001b[0m\n\u001b[0;32m--> 452\u001b[0;31m     \u001b[0mparser\u001b[0m \u001b[0;34m=\u001b[0m \u001b[0mTextFileReader\u001b[0m\u001b[0;34m(\u001b[0m\u001b[0mfp_or_buf\u001b[0m\u001b[0;34m,\u001b[0m \u001b[0;34m**\u001b[0m\u001b[0mkwds\u001b[0m\u001b[0;34m)\u001b[0m\u001b[0;34m\u001b[0m\u001b[0;34m\u001b[0m\u001b[0m\n\u001b[0m\u001b[1;32m    453\u001b[0m \u001b[0;34m\u001b[0m\u001b[0m\n\u001b[1;32m    454\u001b[0m     \u001b[0;32mif\u001b[0m \u001b[0mchunksize\u001b[0m \u001b[0;32mor\u001b[0m \u001b[0miterator\u001b[0m\u001b[0;34m:\u001b[0m\u001b[0;34m\u001b[0m\u001b[0;34m\u001b[0m\u001b[0m\n",
            "\u001b[0;32m/usr/local/lib/python3.6/dist-packages/pandas/io/parsers.py\u001b[0m in \u001b[0;36m__init__\u001b[0;34m(self, f, engine, **kwds)\u001b[0m\n\u001b[1;32m    944\u001b[0m             \u001b[0mself\u001b[0m\u001b[0;34m.\u001b[0m\u001b[0moptions\u001b[0m\u001b[0;34m[\u001b[0m\u001b[0;34m\"has_index_names\"\u001b[0m\u001b[0;34m]\u001b[0m \u001b[0;34m=\u001b[0m \u001b[0mkwds\u001b[0m\u001b[0;34m[\u001b[0m\u001b[0;34m\"has_index_names\"\u001b[0m\u001b[0;34m]\u001b[0m\u001b[0;34m\u001b[0m\u001b[0;34m\u001b[0m\u001b[0m\n\u001b[1;32m    945\u001b[0m \u001b[0;34m\u001b[0m\u001b[0m\n\u001b[0;32m--> 946\u001b[0;31m         \u001b[0mself\u001b[0m\u001b[0;34m.\u001b[0m\u001b[0m_make_engine\u001b[0m\u001b[0;34m(\u001b[0m\u001b[0mself\u001b[0m\u001b[0;34m.\u001b[0m\u001b[0mengine\u001b[0m\u001b[0;34m)\u001b[0m\u001b[0;34m\u001b[0m\u001b[0;34m\u001b[0m\u001b[0m\n\u001b[0m\u001b[1;32m    947\u001b[0m \u001b[0;34m\u001b[0m\u001b[0m\n\u001b[1;32m    948\u001b[0m     \u001b[0;32mdef\u001b[0m \u001b[0mclose\u001b[0m\u001b[0;34m(\u001b[0m\u001b[0mself\u001b[0m\u001b[0;34m)\u001b[0m\u001b[0;34m:\u001b[0m\u001b[0;34m\u001b[0m\u001b[0;34m\u001b[0m\u001b[0m\n",
            "\u001b[0;32m/usr/local/lib/python3.6/dist-packages/pandas/io/parsers.py\u001b[0m in \u001b[0;36m_make_engine\u001b[0;34m(self, engine)\u001b[0m\n\u001b[1;32m   1176\u001b[0m     \u001b[0;32mdef\u001b[0m \u001b[0m_make_engine\u001b[0m\u001b[0;34m(\u001b[0m\u001b[0mself\u001b[0m\u001b[0;34m,\u001b[0m \u001b[0mengine\u001b[0m\u001b[0;34m=\u001b[0m\u001b[0;34m\"c\"\u001b[0m\u001b[0;34m)\u001b[0m\u001b[0;34m:\u001b[0m\u001b[0;34m\u001b[0m\u001b[0;34m\u001b[0m\u001b[0m\n\u001b[1;32m   1177\u001b[0m         \u001b[0;32mif\u001b[0m \u001b[0mengine\u001b[0m \u001b[0;34m==\u001b[0m \u001b[0;34m\"c\"\u001b[0m\u001b[0;34m:\u001b[0m\u001b[0;34m\u001b[0m\u001b[0;34m\u001b[0m\u001b[0m\n\u001b[0;32m-> 1178\u001b[0;31m             \u001b[0mself\u001b[0m\u001b[0;34m.\u001b[0m\u001b[0m_engine\u001b[0m \u001b[0;34m=\u001b[0m \u001b[0mCParserWrapper\u001b[0m\u001b[0;34m(\u001b[0m\u001b[0mself\u001b[0m\u001b[0;34m.\u001b[0m\u001b[0mf\u001b[0m\u001b[0;34m,\u001b[0m \u001b[0;34m**\u001b[0m\u001b[0mself\u001b[0m\u001b[0;34m.\u001b[0m\u001b[0moptions\u001b[0m\u001b[0;34m)\u001b[0m\u001b[0;34m\u001b[0m\u001b[0;34m\u001b[0m\u001b[0m\n\u001b[0m\u001b[1;32m   1179\u001b[0m         \u001b[0;32melse\u001b[0m\u001b[0;34m:\u001b[0m\u001b[0;34m\u001b[0m\u001b[0;34m\u001b[0m\u001b[0m\n\u001b[1;32m   1180\u001b[0m             \u001b[0;32mif\u001b[0m \u001b[0mengine\u001b[0m \u001b[0;34m==\u001b[0m \u001b[0;34m\"python\"\u001b[0m\u001b[0;34m:\u001b[0m\u001b[0;34m\u001b[0m\u001b[0;34m\u001b[0m\u001b[0m\n",
            "\u001b[0;32m/usr/local/lib/python3.6/dist-packages/pandas/io/parsers.py\u001b[0m in \u001b[0;36m__init__\u001b[0;34m(self, src, **kwds)\u001b[0m\n\u001b[1;32m   2006\u001b[0m         \u001b[0mkwds\u001b[0m\u001b[0;34m[\u001b[0m\u001b[0;34m\"usecols\"\u001b[0m\u001b[0;34m]\u001b[0m \u001b[0;34m=\u001b[0m \u001b[0mself\u001b[0m\u001b[0;34m.\u001b[0m\u001b[0musecols\u001b[0m\u001b[0;34m\u001b[0m\u001b[0;34m\u001b[0m\u001b[0m\n\u001b[1;32m   2007\u001b[0m \u001b[0;34m\u001b[0m\u001b[0m\n\u001b[0;32m-> 2008\u001b[0;31m         \u001b[0mself\u001b[0m\u001b[0;34m.\u001b[0m\u001b[0m_reader\u001b[0m \u001b[0;34m=\u001b[0m \u001b[0mparsers\u001b[0m\u001b[0;34m.\u001b[0m\u001b[0mTextReader\u001b[0m\u001b[0;34m(\u001b[0m\u001b[0msrc\u001b[0m\u001b[0;34m,\u001b[0m \u001b[0;34m**\u001b[0m\u001b[0mkwds\u001b[0m\u001b[0;34m)\u001b[0m\u001b[0;34m\u001b[0m\u001b[0;34m\u001b[0m\u001b[0m\n\u001b[0m\u001b[1;32m   2009\u001b[0m         \u001b[0mself\u001b[0m\u001b[0;34m.\u001b[0m\u001b[0munnamed_cols\u001b[0m \u001b[0;34m=\u001b[0m \u001b[0mself\u001b[0m\u001b[0;34m.\u001b[0m\u001b[0m_reader\u001b[0m\u001b[0;34m.\u001b[0m\u001b[0munnamed_cols\u001b[0m\u001b[0;34m\u001b[0m\u001b[0;34m\u001b[0m\u001b[0m\n\u001b[1;32m   2010\u001b[0m \u001b[0;34m\u001b[0m\u001b[0m\n",
            "\u001b[0;32mpandas/_libs/parsers.pyx\u001b[0m in \u001b[0;36mpandas._libs.parsers.TextReader.__cinit__\u001b[0;34m()\u001b[0m\n",
            "\u001b[0;32mpandas/_libs/parsers.pyx\u001b[0m in \u001b[0;36mpandas._libs.parsers.TextReader._setup_parser_source\u001b[0;34m()\u001b[0m\n",
            "\u001b[0;31mFileNotFoundError\u001b[0m: [Errno 2] No such file or directory: 'data_dictionary.csv'"
          ]
        }
      ]
    },
    {
      "cell_type": "code",
      "metadata": {
        "id": "b08flKX58Sh9"
      },
      "source": [
        "pd.set_option('display.max_colwidth', -1)\n",
        "for elem in dictionary.to_records(index=False):\n",
        "    print(elem[0] + \": \" + elem[1])"
      ],
      "execution_count": null,
      "outputs": []
    },
    {
      "cell_type": "markdown",
      "metadata": {
        "id": "nMbO5tV38SiB"
      },
      "source": [
        "NOTE: LSOA (Lower Layer Super Output Area)\n",
        "\n",
        "From NHS Data Dictionary (https://www.datadictionary.nhs.uk/data_dictionary/nhs_business_definitions/l/lower_layer_super_output_area_de.asp?shownav=1)\n",
        "    \n",
        "\"<i>A Lower Layer Super Output Area (LSOA) is a GEOGRAPHIC AREA.\n",
        "Lower Layer Super Output Areas are a geographic hierarchy designed to improve the reporting of small area statistics in England and Wales.\n",
        "Lower Layer Super Output Areas are built from groups of contiguous Output Areas and have been automatically generated to be as consistent in population size as possible, and typically contain from four to six Output Areas. The Minimum population is 1000 and the mean is 1500.\n",
        "There is a Lower Layer Super Output Area for each POSTCODE in England and Wales</i>\""
      ]
    },
    {
      "cell_type": "markdown",
      "metadata": {
        "id": "mbskQ3SP8SiB"
      },
      "source": [
        "How many Rows do we have?"
      ]
    },
    {
      "cell_type": "code",
      "metadata": {
        "id": "UaJby21A8SiC"
      },
      "source": [
        "num_rows = police_data_df.count()"
      ],
      "execution_count": 55,
      "outputs": []
    },
    {
      "cell_type": "code",
      "metadata": {
        "id": "LuqrETSz8SiF",
        "outputId": "75073708-011e-444b-f92a-6f539ca5ceb5",
        "colab": {
          "base_uri": "https://localhost:8080/",
          "height": 36
        }
      },
      "source": [
        "num_rows"
      ],
      "execution_count": 56,
      "outputs": [
        {
          "output_type": "execute_result",
          "data": {
            "text/plain": [
              "4648812"
            ]
          },
          "metadata": {
            "tags": []
          },
          "execution_count": 56
        }
      ]
    },
    {
      "cell_type": "markdown",
      "metadata": {
        "id": "WnwsgAav8SiJ"
      },
      "source": [
        "## Cleaning the Data"
      ]
    },
    {
      "cell_type": "code",
      "metadata": {
        "id": "lXy91H168SiJ"
      },
      "source": [
        "import pyspark.sql.functions as F\n",
        "import calendar\n",
        "\n",
        "# In order to convert the month from a number representing the month index, this function has been created to map that index\n",
        "# to its 3 letter abbreviation\n",
        "get_month_name = F.udf(lambda x: calendar.month_abbr[x])\n",
        "\n",
        "def clean_months(df):\n",
        "    print('Cleaning Year and Month Columns...')\n",
        "    \n",
        "    # Split the month column into a a Month number and a Year\n",
        "    month_year_split = F.split(df['Month'], '-')\n",
        "    \n",
        "    # Assign the Year and Month Number as new columns\n",
        "    df = df.withColumn('Year', month_year_split.getItem(0))\\\n",
        "                    .withColumn('Month_of_Year', month_year_split.getItem(1))\n",
        "    \n",
        "    print('Creating Month_of_Year and Year columns...')\n",
        "    # Ensure that both of the new columns created are integer and not string types\n",
        "    df = df.withColumn(\"Month_of_Year\", df.Month_of_Year.cast(\"int\"))\\\n",
        "                    .withColumn(\"Year\", df.Year.cast(\"int\"))\n",
        "    \n",
        "    # Ensure the month is a name of a month\n",
        "    df_with_month = df.withColumn(\"Month_of_Year\", get_month_name(df[\"Month_of_Year\"]))\n",
        "    \n",
        "    print('Cleaning Complete')\n",
        "\n",
        "    return df_with_month\n",
        "\n",
        "\n",
        "def clean_location(df):\n",
        "    # Remove the On or near part of the string in Location as it adds no information\n",
        "    #' Remove the code at the end of LSOA name to get the Town/City\n",
        "    print('Cleaning Location and Town and City...')\n",
        "    df_with_location = df.withColumn('Location', F.regexp_replace('Location', 'On or near ', ''))\\\n",
        "                        .withColumn(\"Town_City\", F.regexp_replace('LSOA name', ' [0-9]{3}\\w', ''))\n",
        "    print('Cleaning Complete')\n",
        "    return df_with_location\n",
        "\n",
        "def clean_non_england(df):\n",
        "    print('Removing non England and Wales entries')\n",
        "    df_england = df.where((df[\"Falls within\"] != \"Police Service of Northern Ireland\") & (df[\"Falls within\"] != \"British Transport Police\"))\n",
        "    print('Removal Complete')\n",
        "    return df_england\n"
      ],
      "execution_count": 58,
      "outputs": []
    },
    {
      "cell_type": "code",
      "metadata": {
        "id": "2_qiVPOY8SiM",
        "outputId": "1aaa94ce-99df-42a6-d158-bc382a46bef0",
        "colab": {
          "base_uri": "https://localhost:8080/",
          "height": 147
        }
      },
      "source": [
        "# The month column in the data is actually a Year-Month, here we will split that on the - delimiter and create a Year and Month_of_Year Column\n",
        "police_data_clean = clean_months(police_data_df)\n",
        "# Now lets create a Location and Town/City Column\n",
        "police_data_clean = clean_location(police_data_clean)\n",
        "police_data_clean = clean_non_england(police_data_clean)"
      ],
      "execution_count": 59,
      "outputs": [
        {
          "output_type": "stream",
          "text": [
            "Cleaning Year and Month Columns...\n",
            "Creating Month_of_Year and Year columns...\n",
            "Cleaning Complete\n",
            "Cleaning Location and Town and City...\n",
            "Cleaning Complete\n",
            "Removing non England and Wales entries\n",
            "Removal Complete\n"
          ],
          "name": "stdout"
        }
      ]
    },
    {
      "cell_type": "code",
      "metadata": {
        "id": "K3MT0Iyy8SiO",
        "outputId": "36881e1e-bfe5-4e75-a3bd-e8cb6e4ce6ea",
        "colab": {
          "base_uri": "https://localhost:8080/",
          "height": 332
        }
      },
      "source": [
        "police_data_clean.printSchema()"
      ],
      "execution_count": 60,
      "outputs": [
        {
          "output_type": "stream",
          "text": [
            "root\n",
            " |-- Crime ID: string (nullable = true)\n",
            " |-- Month: string (nullable = true)\n",
            " |-- Reported by: string (nullable = true)\n",
            " |-- Falls within: string (nullable = true)\n",
            " |-- Longitude: double (nullable = true)\n",
            " |-- Latitude: double (nullable = true)\n",
            " |-- Location: string (nullable = true)\n",
            " |-- LSOA code: string (nullable = true)\n",
            " |-- LSOA name: string (nullable = true)\n",
            " |-- Crime type: string (nullable = true)\n",
            " |-- Last outcome category: string (nullable = true)\n",
            " |-- Context: string (nullable = true)\n",
            " |-- Year: integer (nullable = true)\n",
            " |-- Month_of_Year: string (nullable = true)\n",
            " |-- Town_City: string (nullable = true)\n",
            "\n"
          ],
          "name": "stdout"
        }
      ]
    },
    {
      "cell_type": "markdown",
      "metadata": {
        "id": "R4F5T81h8SiS"
      },
      "source": [
        "## Exploratory Analysis"
      ]
    },
    {
      "cell_type": "code",
      "metadata": {
        "id": "zqfxK1Qw8SiT"
      },
      "source": [
        "import pyspark.sql.functions as F"
      ],
      "execution_count": 61,
      "outputs": []
    },
    {
      "cell_type": "code",
      "metadata": {
        "id": "eRRDKmR58SiV"
      },
      "source": [
        "import calendar\n",
        "import pandas as pd\n",
        "import matplotlib.pyplot as plt\n",
        "import seaborn as sns\n",
        "import numpy as np\n",
        "from plotnine import ggplot, geoms\n",
        "import pyspark.sql.functions as F\n",
        "\n",
        "sns.set_style('darkgrid')\n",
        "colours = sns.color_palette(\"PuBu\", 10)\n",
        "\n",
        "def plot_crime_time_series(df, read=False):\n",
        "    \"\"\"\n",
        "    \n",
        "    Plots the number of crimes that occured each month'\n",
        "    \n",
        "    \"\"\"\n",
        "    \n",
        "    if read:\n",
        "        crime_over_time = pd.read_csv(\"./eda_data/crime_over_time.csv\", \n",
        "                                      usecols = [\"Month_of_Year\", \"Year\", \"count\"])\n",
        "    else:\n",
        "        print('Grouping by Month and Year and collecting to Pandas...')\n",
        "        crime_over_time = df\\\n",
        "                         .groupBy([\"Month_of_Year\", \"Year\"])\\\n",
        "                         .count()\\\n",
        "                         .toPandas()\n",
        "        print('Collected to Pandas')\n",
        "        crime_over_time.to_csv(\"./eda_data/crime_over_time.csv\")\n",
        "    \n",
        "    \n",
        "    print('Setting Month to a categorical variable...')\n",
        "    months = map(lambda x: calendar.month_abbr[x], range(1, 13))\n",
        "    crime_over_time[\"Month_of_Year\"] = pd.Categorical(crime_over_time[\"Month_of_Year\"], categories=months)\n",
        "    print('Setting complete')\n",
        "    \n",
        "    print('Converting to Series object...')\n",
        "    crime_time_series = crime_over_time\\\n",
        "                        .set_index([\"Year\", \"Month_of_Year\"])\\\n",
        "                        .sort_index()\\\n",
        "                        .squeeze()\n",
        "    print('Conversion complete')\n",
        "    \n",
        "    print('Creating plot object')\n",
        "    plot = crime_time_series.plot(kind = \"line\", color=\"b\", title = \"Incidents of Reported Street Crime (Dec 2010 - Jul 2019)\")\n",
        "    \n",
        "    plot.set_xticks(range(0, len(crime_time_series.index)))\n",
        "    plot.set_xticklabels(list(crime_time_series.index), rotation=90)\n",
        "    print(\"Complete.. Plotting...\")\n",
        "\n",
        "    return plot\n",
        "\n",
        "def plot_crime_counts(df, read=False):\n",
        "    \n",
        "    if read:\n",
        "        crime_type_counts = pd.read_csv(\"./eda_data/crime_type_counts.csv\", usecols=['Crime type', 'count'])\n",
        "    \n",
        "    else:\n",
        "        print('Grouping by Crime type and collecting to Pandas..')\n",
        "        crime_type_counts = df\\\n",
        "                        .groupBy(df['Crime type'])\\\n",
        "                        .count()\\\n",
        "                        .sort(F.col(\"count\").desc())\\\n",
        "                        .toPandas()\n",
        "        crime_type_counts.to_csv(\"./eda_data/crime_type_counts.csv\", header=True)\n",
        "    \n",
        "    print('Converting to Series object...')\n",
        "    crime_type_counts_series = crime_type_counts\\\n",
        "                               .set_index(\"Crime type\")\\\n",
        "                               .squeeze()\\\n",
        "                               .apply(lambda x: x*100/sum(crime_type_counts[\"count\"]))\n",
        "    \n",
        "    print('Plotting...')\n",
        "    plot = sns.barplot(x = crime_type_counts_series.values, \n",
        "                       y = crime_type_counts_series.index,\n",
        "                       color='b')\n",
        "    \n",
        "    return plot\n",
        "    \n",
        "    \n",
        "def plot_crime_type_and_category_counts(df, read=False):\n",
        "    \n",
        "    if read:\n",
        "        outcome_counts = pd.read_csv(\"./eda_data/outcome_counts.csv\", \n",
        "                                     usecols=[\"Crime type\", \"Last outcome category\", \"count\"])\n",
        "    else:\n",
        "        print('Grouping by Crime type and Outcome Category')\n",
        "        outcome_counts = df\\\n",
        "                     .groupBy([\"Crime type\", \"Last outcome category\"])\\\n",
        "                     .count()\\\n",
        "                     .sort(F.col(\"count\").desc())\\\n",
        "                     .toPandas()\n",
        "        outcome_counts.to_csv(\"./eda_data/outcome_counts.csv\", header=True)\n",
        "    \n",
        "    print('Converting to Series')\n",
        "    outcome_counts_series = outcome_counts\\\n",
        "                            .set_index([\"Crime type\", \"Last outcome category\"])\\\n",
        "                            .squeeze()\\\n",
        "                            .apply(lambda x: x*100/sum(outcome_counts[\"count\"]))\\\n",
        "                            .head(20)\n",
        "    print('Collapsing Multi Index')\n",
        "    index = [str(x) + \" -> \" + str(y) for x, y in outcome_counts_series.index]\n",
        "    \n",
        "    print(\"Plotting...\")\n",
        "    plot = sns.barplot(x = outcome_counts_series.values, y = index, color='b')\n",
        "        \n",
        "    plot.set_title('% Total Reported Crime Type and Outcome combination (Dec 2010 - Jul 2019)')\n",
        "    plot.set_xlabel('% of Reported Crimes') \n",
        "    plot.set_ylabel('Crime Type -> Outcome')\n",
        "    \n",
        "    return plot\n",
        "\n",
        "def plot_crime_town_city_counts(df, read=False):\n",
        "    \n",
        "    if read:\n",
        "        crime_town_city_counts = pd.read_csv(\n",
        "            \"./eda_data/crime_town_city_counts.csv\", \n",
        "            usecols=[\"Town_City\", \"count\"]\n",
        "        )        \n",
        "    else:\n",
        "        print('Grouping by Town or City')\n",
        "        crime_town_city_counts = df\\\n",
        "                        .groupBy(df['Town_City'])\\\n",
        "                        .count()\\\n",
        "                        .sort(F.col(\"count\").desc())\\\n",
        "                        .toPandas()\n",
        "        crime_town_city_counts.to_csv(\"./eda_data/crime_town_city_counts.csv\", header=True)\n",
        "    \n",
        "    print('Converting to Series')\n",
        "    crime_town_city_counts_series = crime_town_city_counts\\\n",
        "                                    .set_index([\"Town_City\"])\\\n",
        "                                    .squeeze()\\\n",
        "                                    .head(20)\n",
        "    print('Plotting...')\n",
        "    plot = sns.barplot(y=crime_town_city_counts_series.index, \n",
        "                       x=crime_town_city_counts_series.values,\n",
        "                       color='b')\n",
        "    \n",
        "    plot = plot.set_xticklabels(np.arange(0, max(crime_town_city_counts_series.values), 10000))    \n",
        "    return plot"
      ],
      "execution_count": 62,
      "outputs": []
    },
    {
      "cell_type": "markdown",
      "metadata": {
        "id": "PNm7MGQR8SiY"
      },
      "source": [
        "#### Are there any cases of when the constabulary that reported the crime is different to the constabulary area?"
      ]
    },
    {
      "cell_type": "code",
      "metadata": {
        "id": "SNgO33Jz8SiZ",
        "outputId": "44057792-d1d5-4007-c1b0-eeda86ed403b",
        "colab": {
          "base_uri": "https://localhost:8080/",
          "height": 36
        }
      },
      "source": [
        "police_data_clean\\\n",
        "    .where(F.col(\"Reported by\") != F.col(\"Falls within\"))\\\n",
        "    .count()"
      ],
      "execution_count": 63,
      "outputs": [
        {
          "output_type": "execute_result",
          "data": {
            "text/plain": [
              "0"
            ]
          },
          "metadata": {
            "tags": []
          },
          "execution_count": 63
        }
      ]
    },
    {
      "cell_type": "markdown",
      "metadata": {
        "id": "3NyMejph8Sid"
      },
      "source": [
        "#### Number of Incidents over time"
      ]
    },
    {
      "cell_type": "code",
      "metadata": {
        "id": "ADU3ecLh8Sie",
        "outputId": "1d0d4dc1-206e-4152-a1d2-7e73db70dec4",
        "colab": {
          "base_uri": "https://localhost:8080/",
          "height": 373
        }
      },
      "source": [
        "plt.figure(figsize=(20, 5))\n",
        "crime_over_time_plot = plot_crime_time_series(police_data_clean, read=False)\n",
        "plt.show()"
      ],
      "execution_count": 65,
      "outputs": [
        {
          "output_type": "stream",
          "text": [
            "Grouping by Month and Year and collecting to Pandas...\n",
            "Collected to Pandas\n",
            "Setting Month to a categorical variable...\n",
            "Setting complete\n",
            "Converting to Series object...\n",
            "Conversion complete\n",
            "Creating plot object\n",
            "Complete.. Plotting...\n"
          ],
          "name": "stdout"
        },
        {
          "output_type": "display_data",
          "data": {
            "image/png": "[encoded data removed]",
            "text/plain": [
              "<Figure size 1440x360 with 1 Axes>"
            ]
          },
          "metadata": {
            "tags": []
          }
        }
      ]
    },
    {
      "cell_type": "markdown",
      "metadata": {
        "id": "jRFME6Ld8Sih"
      },
      "source": [
        "There appears to be a stationary trend with some periodicity with the numbers of reported crimes, although we do not have complete years in this dataset. It looks like there is a pattern to the level/numbers of street crimes!"
      ]
    },
    {
      "cell_type": "markdown",
      "metadata": {
        "id": "LHU4GLJF8Sih"
      },
      "source": [
        "#### Most Common Crime and Outcome Category Combination"
      ]
    },
    {
      "cell_type": "code",
      "metadata": {
        "id": "RVV9Lh-y8Sii",
        "outputId": "7f6f7d51-7bb7-42d3-f91d-7c5b54d6b62a",
        "colab": {
          "base_uri": "https://localhost:8080/",
          "height": 477
        }
      },
      "source": [
        "plt.figure(figsize=(10, 10))\n",
        "outcome_category_plot = plot_crime_type_and_category_counts(police_data_clean, read=False)\n",
        "plt.show()"
      ],
      "execution_count": 66,
      "outputs": [
        {
          "output_type": "stream",
          "text": [
            "Grouping by Crime type and Outcome Category\n",
            "Converting to Series\n",
            "Collapsing Multi Index\n",
            "Plotting...\n"
          ],
          "name": "stdout"
        },
        {
          "output_type": "display_data",
          "data": {
            "image/png": "[encoded data removed]",
            "text/plain": [
              "<Figure size 720x720 with 1 Axes>"
            ]
          },
          "metadata": {
            "tags": []
          }
        }
      ]
    },
    {
      "cell_type": "markdown",
      "metadata": {
        "id": "6Pdj86kJ8Sil"
      },
      "source": [
        "It seems the most common type to outcome association is an anti social behaviour crime with no recorded outcome"
      ]
    },
    {
      "cell_type": "markdown",
      "metadata": {
        "id": "499YhFH58Sil"
      },
      "source": [
        "#### The Most Common Type of Crime"
      ]
    },
    {
      "cell_type": "code",
      "metadata": {
        "id": "ueEjlGDN8Sin",
        "outputId": "c887eb3b-edb0-45a4-bf67-b11630cf9112",
        "colab": {
          "base_uri": "https://localhost:8080/",
          "height": 330
        }
      },
      "source": [
        "plt.figure(figsize=(10, 5))\n",
        "crime_type_plot = plot_crime_counts(police_data_clean, read=False)\n",
        "plt.show()"
      ],
      "execution_count": 67,
      "outputs": [
        {
          "output_type": "stream",
          "text": [
            "Grouping by Crime type and collecting to Pandas..\n",
            "Converting to Series object...\n",
            "Plotting...\n"
          ],
          "name": "stdout"
        },
        {
          "output_type": "display_data",
          "data": {
            "image/png": "[encoded data removed]",
            "text/plain": [
              "<Figure size 720x360 with 1 Axes>"
            ]
          },
          "metadata": {
            "tags": []
          }
        }
      ]
    },
    {
      "cell_type": "markdown",
      "metadata": {
        "id": "W6v976cA8Sip"
      },
      "source": [
        "Anti-social behaviour makes up about 35% of crime in England - which is expected... It is concerning that violence and sexual offences is in second place"
      ]
    },
    {
      "cell_type": "markdown",
      "metadata": {
        "id": "FFrkAYE_8Siq"
      },
      "source": [
        "#### Which Town or City has the most crime?"
      ]
    },
    {
      "cell_type": "code",
      "metadata": {
        "id": "o2Zsz2lx8Siq",
        "outputId": "262b9e8f-76b7-41b2-e316-26200bef1d17",
        "colab": {
          "base_uri": "https://localhost:8080/",
          "height": 364
        }
      },
      "source": [
        "plt.figure(figsize=(10,5))\n",
        "crime_town_city_counts = plot_crime_town_city_counts(police_data_clean, read=False)\n",
        "plt.xticks(rotation=90)\n",
        "plt.show()"
      ],
      "execution_count": 68,
      "outputs": [
        {
          "output_type": "stream",
          "text": [
            "Grouping by Town or City\n",
            "Converting to Series\n",
            "Plotting...\n"
          ],
          "name": "stdout"
        },
        {
          "output_type": "display_data",
          "data": {
            "image/png": "[encoded data removed]",
            "text/plain": [
              "<Figure size 720x360 with 1 Axes>"
            ]
          },
          "metadata": {
            "tags": []
          }
        }
      ]
    },
    {
      "cell_type": "markdown",
      "metadata": {
        "id": "weMbep218Sit"
      },
      "source": [
        "## Feature Engineering"
      ]
    },
    {
      "cell_type": "markdown",
      "metadata": {
        "id": "ADXx9kY-8Siv"
      },
      "source": [
        "Let's look at what the feature engineering code is actually doing"
      ]
    },
    {
      "cell_type": "code",
      "metadata": {
        "id": "QAUQGEoE8Siz"
      },
      "source": [
        "from pyspark.sql.types import ArrayType, StringType\n",
        "import pyspark.sql.functions as F\n",
        "\n",
        "clear_duplicates = F.udf(lambda x: list(set(x)), ArrayType(StringType()))\n",
        "\n",
        "def get_modelling_data(df):\n",
        "    \n",
        "    select_cols = [\"Falls within\", \"Town_City\", \"Crime type\", \"Last outcome category\", \"Month_of_Year\"]\n",
        "    \n",
        "    # Remove the crimes with no crime ID and no LSOA Information.\n",
        "    # Then select the features of interest\n",
        "    \n",
        "    print('Filtering data with no Crime ID and no outcome category..')\n",
        "    police_data_modelling = df\\\n",
        "        .filter(df[\"Crime ID\"].isNotNull() & df[\"Last outcome category\"].isNotNull())\\\n",
        "        .select(select_cols)\n",
        "    print('Filtering complete')\n",
        "    return police_data_modelling\n",
        "\n",
        "def make_item_sets(df):\n",
        "    # The FP growth algorithm (like association rules), needs the items to be concatenated into a list/array of \"transactions\".\n",
        "    print('Making item sets...')\n",
        "    print('Collapsing data to list of transactions')\n",
        "    police_item_set = df.withColumn(\"items_temp\", F.array(df[\"Falls within\"],\n",
        "                                                     df[\"Town_City\"],\n",
        "                                                     df[\"Crime type\"],\n",
        "                                                     df[\"Last outcome category\"],\n",
        "                                                     df[\"Month_of_Year\"]))\n",
        "    \n",
        "    police_item_set = police_item_set.withColumn(\"items\", clear_duplicates(police_item_set[\"items_temp\"]))\n",
        "    # Select the items column and id\n",
        "    print('Adding increasing id column...')\n",
        "    \n",
        "    police_item_set = police_item_set\\\n",
        "        .select(\"items\")\n",
        "    print('Itemset creation complete')\n",
        "    \n",
        "    return police_item_set\n",
        "\n",
        "\n",
        "def feature_engineer(df):\n",
        "    \"\"\"Invoke the full feature engineering pipeline\"\"\"\n",
        "    print('Starting Feature Engineering pipeline...')\n",
        "    selected_data = get_modelling_data(df)\n",
        "    item_sets = make_item_sets(selected_data)\n",
        "    print('Feature Engineering complete')\n",
        "    return item_sets\n"
      ],
      "execution_count": 72,
      "outputs": []
    },
    {
      "cell_type": "code",
      "metadata": {
        "id": "9zEDzcqs8Si1",
        "outputId": "b02e0465-6132-42cd-ed21-f730ae23fbdb",
        "colab": {
          "base_uri": "https://localhost:8080/",
          "height": 165
        }
      },
      "source": [
        "# Remove the crimes with no crime ID and no LSOA Information.\n",
        "police_item_set = feature_engineer(police_data_clean)"
      ],
      "execution_count": 73,
      "outputs": [
        {
          "output_type": "stream",
          "text": [
            "Starting Feature Engineering pipeline...\n",
            "Filtering data with no Crime ID and no outcome category..\n",
            "Filtering complete\n",
            "Making item sets...\n",
            "Collapsing data to list of transactions\n",
            "Adding increasing id column...\n",
            "Itemset creation complete\n",
            "Feature Engineering complete\n"
          ],
          "name": "stdout"
        }
      ]
    },
    {
      "cell_type": "markdown",
      "metadata": {
        "id": "ibQgBw_x8SjB"
      },
      "source": [
        "The FP growth algorithm (like association rules), needs the items to be concatenated into a list/array of \"transactions\"."
      ]
    },
    {
      "cell_type": "code",
      "metadata": {
        "id": "FJY7QTJo8SjB",
        "outputId": "3cafb4ee-f869-43b4-e9f5-5cfc1388580e",
        "colab": {
          "base_uri": "https://localhost:8080/",
          "height": 518
        }
      },
      "source": [
        "police_item_set.show(truncate=False)"
      ],
      "execution_count": 74,
      "outputs": [
        {
          "output_type": "stream",
          "text": [
            "+----------------------------------------------------------------------------------------------------------------------------------+\n",
            "|items                                                                                                                             |\n",
            "+----------------------------------------------------------------------------------------------------------------------------------+\n",
            "|[Metropolitan Police Service, Investigation complete; no suspect identified, Arun, Violence and sexual offences, May]             |\n",
            "|[Metropolitan Police Service, Violence and sexual offences, Aylesbury Vale, Under investigation, May]                             |\n",
            "|[Other crime, Awaiting court outcome, Metropolitan Police Service, Aylesbury Vale, May]                                           |\n",
            "|[Burglary, Barking and Dagenham, Metropolitan Police Service, Investigation complete; no suspect identified, May]                 |\n",
            "|[Barking and Dagenham, Metropolitan Police Service, Investigation complete; no suspect identified, May, Criminal damage and arson]|\n",
            "|[Barking and Dagenham, Metropolitan Police Service, Investigation complete; no suspect identified, May, Criminal damage and arson]|\n",
            "|[Barking and Dagenham, Metropolitan Police Service, Investigation complete; no suspect identified, May, Criminal damage and arson]|\n",
            "|[Barking and Dagenham, Metropolitan Police Service, Investigation complete; no suspect identified, May, Criminal damage and arson]|\n",
            "|[Drugs, Barking and Dagenham, Metropolitan Police Service, Offender given penalty notice, May]                                    |\n",
            "|[Offender given a caution, Drugs, Barking and Dagenham, Metropolitan Police Service, May]                                         |\n",
            "|[Drugs, Barking and Dagenham, Metropolitan Police Service, Offender given penalty notice, May]                                    |\n",
            "|[Barking and Dagenham, Metropolitan Police Service, Investigation complete; no suspect identified, May, Other theft]              |\n",
            "|[Barking and Dagenham, Metropolitan Police Service, Investigation complete; no suspect identified, May, Other theft]              |\n",
            "|[Barking and Dagenham, Awaiting court outcome, Metropolitan Police Service, Public order, May]                                    |\n",
            "|[Barking and Dagenham, Metropolitan Police Service, Theft from the person, Investigation complete; no suspect identified, May]    |\n",
            "|[Barking and Dagenham, Metropolitan Police Service, Investigation complete; no suspect identified, Vehicle crime, May]            |\n",
            "|[Barking and Dagenham, Metropolitan Police Service, Investigation complete; no suspect identified, Vehicle crime, May]            |\n",
            "|[Barking and Dagenham, Metropolitan Police Service, Investigation complete; no suspect identified, Vehicle crime, May]            |\n",
            "|[Barking and Dagenham, Metropolitan Police Service, Investigation complete; no suspect identified, Vehicle crime, May]            |\n",
            "|[Barking and Dagenham, Metropolitan Police Service, Investigation complete; no suspect identified, Vehicle crime, May]            |\n",
            "+----------------------------------------------------------------------------------------------------------------------------------+\n",
            "only showing top 20 rows\n",
            "\n"
          ],
          "name": "stdout"
        }
      ]
    },
    {
      "cell_type": "markdown",
      "metadata": {
        "id": "XxscKJx58SjD"
      },
      "source": [
        "## Modelling: Create the FP growth algorithm\n",
        "For Association rules"
      ]
    },
    {
      "cell_type": "code",
      "metadata": {
        "id": "xNguc3eB8SjD"
      },
      "source": [
        "from pyspark.ml.fpm import FPGrowth\n",
        "from pyspark.sql.functions import concat_ws, col\n",
        "import pandas as pd\n",
        "\n",
        "def build_association_rule_model(item_set, min_support, min_confidence):\n",
        "    # Use a low support as we have a large dataset\n",
        "    fp_growth = FPGrowth(itemsCol=\"items\", minSupport=min_support, minConfidence=min_confidence)\n",
        "    \n",
        "    print('Fitting FPGrowth....')\n",
        "    model = fp_growth.fit(item_set)\n",
        "    print('Fit Complete')\n",
        "    return model\n",
        "\n",
        "def extract_model_rules(model):\n",
        "    # Extract the association rules from the model\n",
        "    print('Extracting Rules...')\n",
        "    rules = model.associationRules\n",
        "    print('Rule extraction complete')\n",
        "    \n",
        "    # Minor tidying to save as pandas dataframe. Antecedent and Consequent are array types\n",
        "    # Concatenate into one string and sort by highest confidence\n",
        "    \n",
        "    print('Collecting Rules to Pandas...')\n",
        "    rules_df = rules\\\n",
        "            .withColumn(\"antecedent\" ,concat_ws(\",\", rules[\"antecedent\"]))\\\n",
        "            .withColumn(\"consequent\" ,concat_ws(\",\", rules[\"consequent\"]))\\\n",
        "            .sort(col(\"confidence\"))\\\n",
        "            .toPandas()\n",
        "    print('Collection Complete...')\n",
        "    \n",
        "    return rules_df"
      ],
      "execution_count": 75,
      "outputs": []
    },
    {
      "cell_type": "code",
      "metadata": {
        "id": "a1TcZA_78SjG",
        "outputId": "cd96c691-cbb0-4996-f9fc-82745bbbdeba",
        "colab": {
          "base_uri": "https://localhost:8080/",
          "height": 54
        }
      },
      "source": [
        "# Use a low support as we have a large dataset\n",
        "model = build_association_rule_model(police_item_set, min_support=0.01, min_confidence=0.6)"
      ],
      "execution_count": 76,
      "outputs": [
        {
          "output_type": "stream",
          "text": [
            "Fitting FPGrowth....\n",
            "Fit Complete\n"
          ],
          "name": "stdout"
        }
      ]
    },
    {
      "cell_type": "markdown",
      "metadata": {
        "id": "WcShlmam8SjI"
      },
      "source": [
        "#### Extract the Association Rules"
      ]
    },
    {
      "cell_type": "code",
      "metadata": {
        "id": "65xxU64h8SjI",
        "outputId": "b475e3cb-3605-4f9e-e1ea-98700d62a2e7",
        "colab": {
          "base_uri": "https://localhost:8080/",
          "height": 91
        }
      },
      "source": [
        "rules_df_pd = extract_model_rules(model)"
      ],
      "execution_count": 77,
      "outputs": [
        {
          "output_type": "stream",
          "text": [
            "Extracting Rules...\n",
            "Rule extraction complete\n",
            "Collecting Rules to Pandas...\n",
            "Collection Complete...\n"
          ],
          "name": "stdout"
        }
      ]
    },
    {
      "cell_type": "code",
      "metadata": {
        "id": "swXFkqtb8SjK",
        "outputId": "e0a4fc71-225d-4cef-a28d-6591157b8b32",
        "colab": {
          "base_uri": "https://localhost:8080/",
          "height": 1000
        }
      },
      "source": [
        "rules_df_pd"
      ],
      "execution_count": 78,
      "outputs": [
        {
          "output_type": "execute_result",
          "data": {
            "text/html": [
              "<div>\n",
              "<style scoped>\n",
              "    .dataframe tbody tr th:only-of-type {\n",
              "        vertical-align: middle;\n",
              "    }\n",
              "\n",
              "    .dataframe tbody tr th {\n",
              "        vertical-align: top;\n",
              "    }\n",
              "\n",
              "    .dataframe thead th {\n",
              "        text-align: right;\n",
              "    }\n",
              "</style>\n",
              "<table border=\"1\" class=\"dataframe\">\n",
              "  <thead>\n",
              "    <tr style=\"text-align: right;\">\n",
              "      <th></th>\n",
              "      <th>antecedent</th>\n",
              "      <th>consequent</th>\n",
              "      <th>confidence</th>\n",
              "      <th>lift</th>\n",
              "    </tr>\n",
              "  </thead>\n",
              "  <tbody>\n",
              "    <tr>\n",
              "      <th>0</th>\n",
              "      <td>Metropolitan Police Service</td>\n",
              "      <td>Investigation complete; no suspect identified</td>\n",
              "      <td>0.608668</td>\n",
              "      <td>1.663231</td>\n",
              "    </tr>\n",
              "    <tr>\n",
              "      <th>1</th>\n",
              "      <td>Sep,Violence and sexual offences</td>\n",
              "      <td>Under investigation</td>\n",
              "      <td>0.613183</td>\n",
              "      <td>3.798263</td>\n",
              "    </tr>\n",
              "    <tr>\n",
              "      <th>2</th>\n",
              "      <td>West Yorkshire Police,Violence and sexual offe...</td>\n",
              "      <td>Unable to prosecute suspect</td>\n",
              "      <td>0.614963</td>\n",
              "      <td>2.190784</td>\n",
              "    </tr>\n",
              "    <tr>\n",
              "      <th>3</th>\n",
              "      <td>Other theft</td>\n",
              "      <td>Investigation complete; no suspect identified</td>\n",
              "      <td>0.631274</td>\n",
              "      <td>1.725003</td>\n",
              "    </tr>\n",
              "    <tr>\n",
              "      <th>4</th>\n",
              "      <td>Kent Police,Violence and sexual offences</td>\n",
              "      <td>Unable to prosecute suspect</td>\n",
              "      <td>0.641441</td>\n",
              "      <td>2.285109</td>\n",
              "    </tr>\n",
              "    <tr>\n",
              "      <th>5</th>\n",
              "      <td>West Yorkshire Police,Unable to prosecute suspect</td>\n",
              "      <td>Violence and sexual offences</td>\n",
              "      <td>0.657481</td>\n",
              "      <td>1.617648</td>\n",
              "    </tr>\n",
              "    <tr>\n",
              "      <th>6</th>\n",
              "      <td>Jun,Unable to prosecute suspect</td>\n",
              "      <td>Violence and sexual offences</td>\n",
              "      <td>0.663515</td>\n",
              "      <td>1.632494</td>\n",
              "    </tr>\n",
              "    <tr>\n",
              "      <th>7</th>\n",
              "      <td>May,Unable to prosecute suspect</td>\n",
              "      <td>Violence and sexual offences</td>\n",
              "      <td>0.664672</td>\n",
              "      <td>1.635340</td>\n",
              "    </tr>\n",
              "    <tr>\n",
              "      <th>8</th>\n",
              "      <td>Jul,Unable to prosecute suspect</td>\n",
              "      <td>Violence and sexual offences</td>\n",
              "      <td>0.664799</td>\n",
              "      <td>1.635653</td>\n",
              "    </tr>\n",
              "    <tr>\n",
              "      <th>9</th>\n",
              "      <td>Jul,Metropolitan Police Service</td>\n",
              "      <td>Investigation complete; no suspect identified</td>\n",
              "      <td>0.666735</td>\n",
              "      <td>1.821904</td>\n",
              "    </tr>\n",
              "    <tr>\n",
              "      <th>10</th>\n",
              "      <td>Aug,Unable to prosecute suspect</td>\n",
              "      <td>Violence and sexual offences</td>\n",
              "      <td>0.667004</td>\n",
              "      <td>1.641079</td>\n",
              "    </tr>\n",
              "    <tr>\n",
              "      <th>11</th>\n",
              "      <td>Unable to prosecute suspect</td>\n",
              "      <td>Violence and sexual offences</td>\n",
              "      <td>0.668988</td>\n",
              "      <td>1.645958</td>\n",
              "    </tr>\n",
              "    <tr>\n",
              "      <th>12</th>\n",
              "      <td>Jan,Unable to prosecute suspect</td>\n",
              "      <td>Violence and sexual offences</td>\n",
              "      <td>0.670763</td>\n",
              "      <td>1.650326</td>\n",
              "    </tr>\n",
              "    <tr>\n",
              "      <th>13</th>\n",
              "      <td>Mar,Unable to prosecute suspect</td>\n",
              "      <td>Violence and sexual offences</td>\n",
              "      <td>0.671129</td>\n",
              "      <td>1.651227</td>\n",
              "    </tr>\n",
              "    <tr>\n",
              "      <th>14</th>\n",
              "      <td>Sep,Unable to prosecute suspect</td>\n",
              "      <td>Violence and sexual offences</td>\n",
              "      <td>0.672242</td>\n",
              "      <td>1.653965</td>\n",
              "    </tr>\n",
              "    <tr>\n",
              "      <th>15</th>\n",
              "      <td>Apr,Unable to prosecute suspect</td>\n",
              "      <td>Violence and sexual offences</td>\n",
              "      <td>0.673543</td>\n",
              "      <td>1.657167</td>\n",
              "    </tr>\n",
              "    <tr>\n",
              "      <th>16</th>\n",
              "      <td>Feb,Unable to prosecute suspect</td>\n",
              "      <td>Violence and sexual offences</td>\n",
              "      <td>0.674750</td>\n",
              "      <td>1.660136</td>\n",
              "    </tr>\n",
              "    <tr>\n",
              "      <th>17</th>\n",
              "      <td>Burglary</td>\n",
              "      <td>Investigation complete; no suspect identified</td>\n",
              "      <td>0.679243</td>\n",
              "      <td>1.856081</td>\n",
              "    </tr>\n",
              "    <tr>\n",
              "      <th>18</th>\n",
              "      <td>Kent Police,Unable to prosecute suspect</td>\n",
              "      <td>Violence and sexual offences</td>\n",
              "      <td>0.703693</td>\n",
              "      <td>1.731347</td>\n",
              "    </tr>\n",
              "    <tr>\n",
              "      <th>19</th>\n",
              "      <td>West Midlands Police,Unable to prosecute suspect</td>\n",
              "      <td>Violence and sexual offences</td>\n",
              "      <td>0.727854</td>\n",
              "      <td>1.790792</td>\n",
              "    </tr>\n",
              "    <tr>\n",
              "      <th>20</th>\n",
              "      <td>May,Metropolitan Police Service</td>\n",
              "      <td>Investigation complete; no suspect identified</td>\n",
              "      <td>0.728804</td>\n",
              "      <td>1.991512</td>\n",
              "    </tr>\n",
              "    <tr>\n",
              "      <th>21</th>\n",
              "      <td>Other theft,Metropolitan Police Service</td>\n",
              "      <td>Investigation complete; no suspect identified</td>\n",
              "      <td>0.728882</td>\n",
              "      <td>1.991723</td>\n",
              "    </tr>\n",
              "    <tr>\n",
              "      <th>22</th>\n",
              "      <td>Vehicle crime,Metropolitan Police Service</td>\n",
              "      <td>Investigation complete; no suspect identified</td>\n",
              "      <td>0.733037</td>\n",
              "      <td>2.003079</td>\n",
              "    </tr>\n",
              "    <tr>\n",
              "      <th>23</th>\n",
              "      <td>Jun,Metropolitan Police Service</td>\n",
              "      <td>Investigation complete; no suspect identified</td>\n",
              "      <td>0.741545</td>\n",
              "      <td>2.026327</td>\n",
              "    </tr>\n",
              "    <tr>\n",
              "      <th>24</th>\n",
              "      <td>Apr,Metropolitan Police Service</td>\n",
              "      <td>Investigation complete; no suspect identified</td>\n",
              "      <td>0.744808</td>\n",
              "      <td>2.035243</td>\n",
              "    </tr>\n",
              "    <tr>\n",
              "      <th>25</th>\n",
              "      <td>Vehicle crime</td>\n",
              "      <td>Investigation complete; no suspect identified</td>\n",
              "      <td>0.756680</td>\n",
              "      <td>2.067685</td>\n",
              "    </tr>\n",
              "    <tr>\n",
              "      <th>26</th>\n",
              "      <td>Bicycle theft</td>\n",
              "      <td>Investigation complete; no suspect identified</td>\n",
              "      <td>0.777608</td>\n",
              "      <td>2.124872</td>\n",
              "    </tr>\n",
              "    <tr>\n",
              "      <th>27</th>\n",
              "      <td>Durham Constabulary</td>\n",
              "      <td>County Durham</td>\n",
              "      <td>0.807467</td>\n",
              "      <td>73.031020</td>\n",
              "    </tr>\n",
              "    <tr>\n",
              "      <th>28</th>\n",
              "      <td>Mar,Metropolitan Police Service</td>\n",
              "      <td>Investigation complete; no suspect identified</td>\n",
              "      <td>0.821586</td>\n",
              "      <td>2.245044</td>\n",
              "    </tr>\n",
              "    <tr>\n",
              "      <th>29</th>\n",
              "      <td>Birmingham,Violence and sexual offences</td>\n",
              "      <td>West Midlands Police</td>\n",
              "      <td>0.996018</td>\n",
              "      <td>17.322677</td>\n",
              "    </tr>\n",
              "    <tr>\n",
              "      <th>30</th>\n",
              "      <td>Birmingham</td>\n",
              "      <td>West Midlands Police</td>\n",
              "      <td>0.997132</td>\n",
              "      <td>17.342051</td>\n",
              "    </tr>\n",
              "    <tr>\n",
              "      <th>31</th>\n",
              "      <td>County Durham</td>\n",
              "      <td>Durham Constabulary</td>\n",
              "      <td>0.997264</td>\n",
              "      <td>73.031020</td>\n",
              "    </tr>\n",
              "    <tr>\n",
              "      <th>32</th>\n",
              "      <td>Sheffield</td>\n",
              "      <td>South Yorkshire Police</td>\n",
              "      <td>0.998057</td>\n",
              "      <td>32.475737</td>\n",
              "    </tr>\n",
              "    <tr>\n",
              "      <th>33</th>\n",
              "      <td>Bradford</td>\n",
              "      <td>West Yorkshire Police</td>\n",
              "      <td>0.998606</td>\n",
              "      <td>16.831742</td>\n",
              "    </tr>\n",
              "    <tr>\n",
              "      <th>34</th>\n",
              "      <td>Westminster</td>\n",
              "      <td>Metropolitan Police Service</td>\n",
              "      <td>0.998708</td>\n",
              "      <td>5.779093</td>\n",
              "    </tr>\n",
              "    <tr>\n",
              "      <th>35</th>\n",
              "      <td>Leeds</td>\n",
              "      <td>West Yorkshire Police</td>\n",
              "      <td>0.998875</td>\n",
              "      <td>16.836284</td>\n",
              "    </tr>\n",
              "    <tr>\n",
              "      <th>36</th>\n",
              "      <td>Birmingham,Investigation complete; no suspect ...</td>\n",
              "      <td>West Midlands Police</td>\n",
              "      <td>0.998926</td>\n",
              "      <td>17.373257</td>\n",
              "    </tr>\n",
              "    <tr>\n",
              "      <th>37</th>\n",
              "      <td>Liverpool</td>\n",
              "      <td>Merseyside Police</td>\n",
              "      <td>0.999140</td>\n",
              "      <td>33.947662</td>\n",
              "    </tr>\n",
              "    <tr>\n",
              "      <th>38</th>\n",
              "      <td>Bristol</td>\n",
              "      <td>Avon and Somerset Constabulary</td>\n",
              "      <td>0.999277</td>\n",
              "      <td>33.763352</td>\n",
              "    </tr>\n",
              "  </tbody>\n",
              "</table>\n",
              "</div>"
            ],
            "text/plain": [
              "                                           antecedent  ...       lift\n",
              "0                         Metropolitan Police Service  ...   1.663231\n",
              "1                    Sep,Violence and sexual offences  ...   3.798263\n",
              "2   West Yorkshire Police,Violence and sexual offe...  ...   2.190784\n",
              "3                                         Other theft  ...   1.725003\n",
              "4            Kent Police,Violence and sexual offences  ...   2.285109\n",
              "5   West Yorkshire Police,Unable to prosecute suspect  ...   1.617648\n",
              "6                     Jun,Unable to prosecute suspect  ...   1.632494\n",
              "7                     May,Unable to prosecute suspect  ...   1.635340\n",
              "8                     Jul,Unable to prosecute suspect  ...   1.635653\n",
              "9                     Jul,Metropolitan Police Service  ...   1.821904\n",
              "10                    Aug,Unable to prosecute suspect  ...   1.641079\n",
              "11                        Unable to prosecute suspect  ...   1.645958\n",
              "12                    Jan,Unable to prosecute suspect  ...   1.650326\n",
              "13                    Mar,Unable to prosecute suspect  ...   1.651227\n",
              "14                    Sep,Unable to prosecute suspect  ...   1.653965\n",
              "15                    Apr,Unable to prosecute suspect  ...   1.657167\n",
              "16                    Feb,Unable to prosecute suspect  ...   1.660136\n",
              "17                                           Burglary  ...   1.856081\n",
              "18            Kent Police,Unable to prosecute suspect  ...   1.731347\n",
              "19   West Midlands Police,Unable to prosecute suspect  ...   1.790792\n",
              "20                    May,Metropolitan Police Service  ...   1.991512\n",
              "21            Other theft,Metropolitan Police Service  ...   1.991723\n",
              "22          Vehicle crime,Metropolitan Police Service  ...   2.003079\n",
              "23                    Jun,Metropolitan Police Service  ...   2.026327\n",
              "24                    Apr,Metropolitan Police Service  ...   2.035243\n",
              "25                                      Vehicle crime  ...   2.067685\n",
              "26                                      Bicycle theft  ...   2.124872\n",
              "27                                Durham Constabulary  ...  73.031020\n",
              "28                    Mar,Metropolitan Police Service  ...   2.245044\n",
              "29            Birmingham,Violence and sexual offences  ...  17.322677\n",
              "30                                         Birmingham  ...  17.342051\n",
              "31                                      County Durham  ...  73.031020\n",
              "32                                          Sheffield  ...  32.475737\n",
              "33                                           Bradford  ...  16.831742\n",
              "34                                        Westminster  ...   5.779093\n",
              "35                                              Leeds  ...  16.836284\n",
              "36  Birmingham,Investigation complete; no suspect ...  ...  17.373257\n",
              "37                                          Liverpool  ...  33.947662\n",
              "38                                            Bristol  ...  33.763352\n",
              "\n",
              "[39 rows x 4 columns]"
            ]
          },
          "metadata": {
            "tags": []
          },
          "execution_count": 78
        }
      ]
    },
    {
      "cell_type": "code",
      "metadata": {
        "id": "dw-txkpM8SjM"
      },
      "source": [
        "rules_df_pd.to_csv('crime_associations.csv')"
      ],
      "execution_count": 79,
      "outputs": []
    },
    {
      "cell_type": "code",
      "metadata": {
        "id": "Ov1TDb5e8SjO"
      },
      "source": [
        "# Stop the Spark Session\n",
        "sc.stop()"
      ],
      "execution_count": 80,
      "outputs": []
    },
    {
      "cell_type": "markdown",
      "metadata": {
        "id": "UcnHyhk38SjP"
      },
      "source": [
        "## Rules Analysis\n",
        "As you can see, the rules in the 98%+ confidence region appear to be rules that don't really tell us anything. i.e. Birmingham -> West Midlands Police. Let's remove those from the analysis"
      ]
    },
    {
      "cell_type": "code",
      "metadata": {
        "id": "xnV9QJ-f8SjQ"
      },
      "source": [
        "useful_rules_df = rules_df_pd[rules_df_pd['confidence'] < 0.98]\\\n",
        "    .sort_values(by=\"confidence\", ascending = False)"
      ],
      "execution_count": 81,
      "outputs": []
    },
    {
      "cell_type": "code",
      "metadata": {
        "id": "XEHhIshx8SjR",
        "outputId": "5f298ae6-64d2-4cda-c3d1-0c3180c04d77",
        "colab": {
          "base_uri": "https://localhost:8080/",
          "height": 1000
        }
      },
      "source": [
        "useful_rules_df"
      ],
      "execution_count": 82,
      "outputs": [
        {
          "output_type": "execute_result",
          "data": {
            "text/html": [
              "<div>\n",
              "<style scoped>\n",
              "    .dataframe tbody tr th:only-of-type {\n",
              "        vertical-align: middle;\n",
              "    }\n",
              "\n",
              "    .dataframe tbody tr th {\n",
              "        vertical-align: top;\n",
              "    }\n",
              "\n",
              "    .dataframe thead th {\n",
              "        text-align: right;\n",
              "    }\n",
              "</style>\n",
              "<table border=\"1\" class=\"dataframe\">\n",
              "  <thead>\n",
              "    <tr style=\"text-align: right;\">\n",
              "      <th></th>\n",
              "      <th>antecedent</th>\n",
              "      <th>consequent</th>\n",
              "      <th>confidence</th>\n",
              "      <th>lift</th>\n",
              "    </tr>\n",
              "  </thead>\n",
              "  <tbody>\n",
              "    <tr>\n",
              "      <th>28</th>\n",
              "      <td>Mar,Metropolitan Police Service</td>\n",
              "      <td>Investigation complete; no suspect identified</td>\n",
              "      <td>0.821586</td>\n",
              "      <td>2.245044</td>\n",
              "    </tr>\n",
              "    <tr>\n",
              "      <th>27</th>\n",
              "      <td>Durham Constabulary</td>\n",
              "      <td>County Durham</td>\n",
              "      <td>0.807467</td>\n",
              "      <td>73.031020</td>\n",
              "    </tr>\n",
              "    <tr>\n",
              "      <th>26</th>\n",
              "      <td>Bicycle theft</td>\n",
              "      <td>Investigation complete; no suspect identified</td>\n",
              "      <td>0.777608</td>\n",
              "      <td>2.124872</td>\n",
              "    </tr>\n",
              "    <tr>\n",
              "      <th>25</th>\n",
              "      <td>Vehicle crime</td>\n",
              "      <td>Investigation complete; no suspect identified</td>\n",
              "      <td>0.756680</td>\n",
              "      <td>2.067685</td>\n",
              "    </tr>\n",
              "    <tr>\n",
              "      <th>24</th>\n",
              "      <td>Apr,Metropolitan Police Service</td>\n",
              "      <td>Investigation complete; no suspect identified</td>\n",
              "      <td>0.744808</td>\n",
              "      <td>2.035243</td>\n",
              "    </tr>\n",
              "    <tr>\n",
              "      <th>23</th>\n",
              "      <td>Jun,Metropolitan Police Service</td>\n",
              "      <td>Investigation complete; no suspect identified</td>\n",
              "      <td>0.741545</td>\n",
              "      <td>2.026327</td>\n",
              "    </tr>\n",
              "    <tr>\n",
              "      <th>22</th>\n",
              "      <td>Vehicle crime,Metropolitan Police Service</td>\n",
              "      <td>Investigation complete; no suspect identified</td>\n",
              "      <td>0.733037</td>\n",
              "      <td>2.003079</td>\n",
              "    </tr>\n",
              "    <tr>\n",
              "      <th>21</th>\n",
              "      <td>Other theft,Metropolitan Police Service</td>\n",
              "      <td>Investigation complete; no suspect identified</td>\n",
              "      <td>0.728882</td>\n",
              "      <td>1.991723</td>\n",
              "    </tr>\n",
              "    <tr>\n",
              "      <th>20</th>\n",
              "      <td>May,Metropolitan Police Service</td>\n",
              "      <td>Investigation complete; no suspect identified</td>\n",
              "      <td>0.728804</td>\n",
              "      <td>1.991512</td>\n",
              "    </tr>\n",
              "    <tr>\n",
              "      <th>19</th>\n",
              "      <td>West Midlands Police,Unable to prosecute suspect</td>\n",
              "      <td>Violence and sexual offences</td>\n",
              "      <td>0.727854</td>\n",
              "      <td>1.790792</td>\n",
              "    </tr>\n",
              "    <tr>\n",
              "      <th>18</th>\n",
              "      <td>Kent Police,Unable to prosecute suspect</td>\n",
              "      <td>Violence and sexual offences</td>\n",
              "      <td>0.703693</td>\n",
              "      <td>1.731347</td>\n",
              "    </tr>\n",
              "    <tr>\n",
              "      <th>17</th>\n",
              "      <td>Burglary</td>\n",
              "      <td>Investigation complete; no suspect identified</td>\n",
              "      <td>0.679243</td>\n",
              "      <td>1.856081</td>\n",
              "    </tr>\n",
              "    <tr>\n",
              "      <th>16</th>\n",
              "      <td>Feb,Unable to prosecute suspect</td>\n",
              "      <td>Violence and sexual offences</td>\n",
              "      <td>0.674750</td>\n",
              "      <td>1.660136</td>\n",
              "    </tr>\n",
              "    <tr>\n",
              "      <th>15</th>\n",
              "      <td>Apr,Unable to prosecute suspect</td>\n",
              "      <td>Violence and sexual offences</td>\n",
              "      <td>0.673543</td>\n",
              "      <td>1.657167</td>\n",
              "    </tr>\n",
              "    <tr>\n",
              "      <th>14</th>\n",
              "      <td>Sep,Unable to prosecute suspect</td>\n",
              "      <td>Violence and sexual offences</td>\n",
              "      <td>0.672242</td>\n",
              "      <td>1.653965</td>\n",
              "    </tr>\n",
              "    <tr>\n",
              "      <th>13</th>\n",
              "      <td>Mar,Unable to prosecute suspect</td>\n",
              "      <td>Violence and sexual offences</td>\n",
              "      <td>0.671129</td>\n",
              "      <td>1.651227</td>\n",
              "    </tr>\n",
              "    <tr>\n",
              "      <th>12</th>\n",
              "      <td>Jan,Unable to prosecute suspect</td>\n",
              "      <td>Violence and sexual offences</td>\n",
              "      <td>0.670763</td>\n",
              "      <td>1.650326</td>\n",
              "    </tr>\n",
              "    <tr>\n",
              "      <th>11</th>\n",
              "      <td>Unable to prosecute suspect</td>\n",
              "      <td>Violence and sexual offences</td>\n",
              "      <td>0.668988</td>\n",
              "      <td>1.645958</td>\n",
              "    </tr>\n",
              "    <tr>\n",
              "      <th>10</th>\n",
              "      <td>Aug,Unable to prosecute suspect</td>\n",
              "      <td>Violence and sexual offences</td>\n",
              "      <td>0.667004</td>\n",
              "      <td>1.641079</td>\n",
              "    </tr>\n",
              "    <tr>\n",
              "      <th>9</th>\n",
              "      <td>Jul,Metropolitan Police Service</td>\n",
              "      <td>Investigation complete; no suspect identified</td>\n",
              "      <td>0.666735</td>\n",
              "      <td>1.821904</td>\n",
              "    </tr>\n",
              "    <tr>\n",
              "      <th>8</th>\n",
              "      <td>Jul,Unable to prosecute suspect</td>\n",
              "      <td>Violence and sexual offences</td>\n",
              "      <td>0.664799</td>\n",
              "      <td>1.635653</td>\n",
              "    </tr>\n",
              "    <tr>\n",
              "      <th>7</th>\n",
              "      <td>May,Unable to prosecute suspect</td>\n",
              "      <td>Violence and sexual offences</td>\n",
              "      <td>0.664672</td>\n",
              "      <td>1.635340</td>\n",
              "    </tr>\n",
              "    <tr>\n",
              "      <th>6</th>\n",
              "      <td>Jun,Unable to prosecute suspect</td>\n",
              "      <td>Violence and sexual offences</td>\n",
              "      <td>0.663515</td>\n",
              "      <td>1.632494</td>\n",
              "    </tr>\n",
              "    <tr>\n",
              "      <th>5</th>\n",
              "      <td>West Yorkshire Police,Unable to prosecute suspect</td>\n",
              "      <td>Violence and sexual offences</td>\n",
              "      <td>0.657481</td>\n",
              "      <td>1.617648</td>\n",
              "    </tr>\n",
              "    <tr>\n",
              "      <th>4</th>\n",
              "      <td>Kent Police,Violence and sexual offences</td>\n",
              "      <td>Unable to prosecute suspect</td>\n",
              "      <td>0.641441</td>\n",
              "      <td>2.285109</td>\n",
              "    </tr>\n",
              "    <tr>\n",
              "      <th>3</th>\n",
              "      <td>Other theft</td>\n",
              "      <td>Investigation complete; no suspect identified</td>\n",
              "      <td>0.631274</td>\n",
              "      <td>1.725003</td>\n",
              "    </tr>\n",
              "    <tr>\n",
              "      <th>2</th>\n",
              "      <td>West Yorkshire Police,Violence and sexual offe...</td>\n",
              "      <td>Unable to prosecute suspect</td>\n",
              "      <td>0.614963</td>\n",
              "      <td>2.190784</td>\n",
              "    </tr>\n",
              "    <tr>\n",
              "      <th>1</th>\n",
              "      <td>Sep,Violence and sexual offences</td>\n",
              "      <td>Under investigation</td>\n",
              "      <td>0.613183</td>\n",
              "      <td>3.798263</td>\n",
              "    </tr>\n",
              "    <tr>\n",
              "      <th>0</th>\n",
              "      <td>Metropolitan Police Service</td>\n",
              "      <td>Investigation complete; no suspect identified</td>\n",
              "      <td>0.608668</td>\n",
              "      <td>1.663231</td>\n",
              "    </tr>\n",
              "  </tbody>\n",
              "</table>\n",
              "</div>"
            ],
            "text/plain": [
              "                                           antecedent  ...       lift\n",
              "28                    Mar,Metropolitan Police Service  ...   2.245044\n",
              "27                                Durham Constabulary  ...  73.031020\n",
              "26                                      Bicycle theft  ...   2.124872\n",
              "25                                      Vehicle crime  ...   2.067685\n",
              "24                    Apr,Metropolitan Police Service  ...   2.035243\n",
              "23                    Jun,Metropolitan Police Service  ...   2.026327\n",
              "22          Vehicle crime,Metropolitan Police Service  ...   2.003079\n",
              "21            Other theft,Metropolitan Police Service  ...   1.991723\n",
              "20                    May,Metropolitan Police Service  ...   1.991512\n",
              "19   West Midlands Police,Unable to prosecute suspect  ...   1.790792\n",
              "18            Kent Police,Unable to prosecute suspect  ...   1.731347\n",
              "17                                           Burglary  ...   1.856081\n",
              "16                    Feb,Unable to prosecute suspect  ...   1.660136\n",
              "15                    Apr,Unable to prosecute suspect  ...   1.657167\n",
              "14                    Sep,Unable to prosecute suspect  ...   1.653965\n",
              "13                    Mar,Unable to prosecute suspect  ...   1.651227\n",
              "12                    Jan,Unable to prosecute suspect  ...   1.650326\n",
              "11                        Unable to prosecute suspect  ...   1.645958\n",
              "10                    Aug,Unable to prosecute suspect  ...   1.641079\n",
              "9                     Jul,Metropolitan Police Service  ...   1.821904\n",
              "8                     Jul,Unable to prosecute suspect  ...   1.635653\n",
              "7                     May,Unable to prosecute suspect  ...   1.635340\n",
              "6                     Jun,Unable to prosecute suspect  ...   1.632494\n",
              "5   West Yorkshire Police,Unable to prosecute suspect  ...   1.617648\n",
              "4            Kent Police,Violence and sexual offences  ...   2.285109\n",
              "3                                         Other theft  ...   1.725003\n",
              "2   West Yorkshire Police,Violence and sexual offe...  ...   2.190784\n",
              "1                    Sep,Violence and sexual offences  ...   3.798263\n",
              "0                         Metropolitan Police Service  ...   1.663231\n",
              "\n",
              "[29 rows x 4 columns]"
            ]
          },
          "metadata": {
            "tags": []
          },
          "execution_count": 82
        }
      ]
    },
    {
      "cell_type": "markdown",
      "metadata": {
        "id": "f-bPRtB_8SjU"
      },
      "source": [
        "Now the rule with the highest confidence is **(Bicycle Theft -> Investigation complete; no suspect identified)**. So what does this mean? This means that given that a crime is a Bike Theft, the probability the investigation will be complete with no suspect identified is around 72%\n",
        "\n",
        "The other 3 rules in the 65%+ confidence/conditional probability region follow a similar pattern.\n",
        "- **(Other theft -> Investigation complete; no suspect identified)**\n",
        "- **(Burglary -> Investigation complete; no suspect identified)**\n",
        "- **(Vehicle Crime -> Investigation complete; no suspect identified)**\n",
        "\n",
        "So, it implies that the probability of no suspect being identified after a burglary, vehicle crime, an incident of criminal damage or arr is about 69-72%.\n",
        "\n",
        "Another interesting rule is **(Manchester -> Investigation complete; no suspect identified)**. So what this is saying is, the model estimates that the probability that a reported crime leads to a complete investigation with no suspect identified, given that the crime occurred in Manchester around 65%\n",
        "\n",
        "Another block of these rules is **(Unable to prosecute suspect -> Violence and sexual offences)**, which sounds worrying but doesn't really say much. The conditional probability of a crime being a violence and sexual offence, given that you were unable to prosecute the suspect is around 61%."
      ]
    },
    {
      "cell_type": "code",
      "metadata": {
        "id": "8Zwg_6Os8SjU"
      },
      "source": [
        "sc.stop()"
      ],
      "execution_count": 83,
      "outputs": []
    }
  ]
}